{
 "cells": [
  {
   "cell_type": "markdown",
   "metadata": {
    "papermill": {
     "duration": 0.04077,
     "end_time": "2021-01-27T06:10:55.833858",
     "exception": false,
     "start_time": "2021-01-27T06:10:55.793088",
     "status": "completed"
    },
    "tags": []
   },
   "source": [
    "<a id=\"1.1\"></a>\n",
    "<h3 style=\"background-color:gold;font-family:newtimeroman;font-size:200%;text-align:center\">What are Recurrent Neural Networks?</h3>"
   ]
  },
  {
   "cell_type": "markdown",
   "metadata": {
    "papermill": {
     "duration": 0.037786,
     "end_time": "2021-01-27T06:10:55.910141",
     "exception": false,
     "start_time": "2021-01-27T06:10:55.872355",
     "status": "completed"
    },
    "tags": []
   },
   "source": [
    "<p><span style='font-family: \"Trebuchet MS\", Times, serif; font-size: 18px;'>RNN is a type of artificial neural network designed to work with data that has sequences. Let's consider an example:\n",
    "Assume we've a sequence of data: [\"1st day sale\", \"2nd day sale\", \"3rd day sale\", \"4th day sale\"].</span></p>\n",
    "\n",
    "<p><span style='font-family: \"Trebuchet MS\", Times, serif; font-size: 18px;'>To predict what's the sale price would likely to be on the 5th day, RNN comes into use, i.e; Predicting the shift of data with one day ahead in sequence. Most common uses of RNN are in:</span></p>\n",
    "<p>\n",
    "    <span style='font-family: \"Trebuchet MS\", Times, serif; font-size: 18px;'>\n",
    "        <li>Time Series</li>\n",
    "        <li>Automobile Trajectories (left,right,back,forward)</li>\n",
    "        <li>Sound/Speech (sequence of sounds)</li>\n",
    "        <li>Music</li>\n",
    "    </span>\n",
    "</p>\n",
    "\n",
    "More Information here: [Technical definition and knowledge anout RNN](https://en.wikipedia.org/wiki/Recurrent_neural_network)"
   ]
  },
  {
   "cell_type": "markdown",
   "metadata": {
    "papermill": {
     "duration": 0.037675,
     "end_time": "2021-01-27T06:10:55.985547",
     "exception": false,
     "start_time": "2021-01-27T06:10:55.947872",
     "status": "completed"
    },
    "tags": []
   },
   "source": [
    "<a id=\"1.2\"></a>\n",
    "<h3 style=\"background-color:gold;font-family:newtimeroman;font-size:200%;text-align:center\">Working of a neuron in Feed Forward Network</h3>"
   ]
  },
  {
   "cell_type": "markdown",
   "metadata": {
    "papermill": {
     "duration": 0.037568,
     "end_time": "2021-01-27T06:10:56.060733",
     "exception": false,
     "start_time": "2021-01-27T06:10:56.023165",
     "status": "completed"
    },
    "tags": []
   },
   "source": [
    "<p><span style='font-family: \"Trebuchet MS\", Times, serif; font-size: 18px;'>To solve the above type of problem using RNN, let's understand how a simple neuron works in a Feed Forward Network!</span></p>\n",
    "\n",
    "![Working of a simple neuron](https://learnopencv.com/wp-content/uploads/2017/10/neuron-diagram.jpg)\n",
    "\n",
    "<p><span style='font-family: \"Trebuchet MS\", Times, serif; font-size: 18px;'>A single neuron takes in some inputs, aggregates them, and passes them through an activation function(like 'relu', 'sigmoid', 'tanh', etc.) and then generates an output.</span></p>\n",
    "\n",
    "![RNN](https://wiki.tum.de/download/attachments/22578349/RNN0.JPG?version=1&modificationDate=1485263911757&api=v2)\n",
    "\n",
    "<p><span style='font-family: \"Trebuchet MS\", Times, serif; font-size: 18px;'>In a RNN, the input generated after passing through the Activation function is sent back to itself, into the input of the same neuron!</span></p>\n",
    "\n",
    "<p><span style='font-family: \"Trebuchet MS\", Times, serif; font-size: 18px;'>Here a neuron recieves input from a previous timestamp, as well as current time stamp. Hence, they are also known as memory cells</span></p>\n",
    "\n",
    "<p><span style='font-family: \"Trebuchet MS\", Times, serif; font-size: 18px;'>RNNs are very comfortable with I/p and O/p for both sequences and single vector values. It's very easy to create layer of an RNN</span></p>\n",
    "\n",
    "More Information here: [Technical definition and knowledge anout RNN](https://en.wikipedia.org/wiki/Recurrent_neural_network)"
   ]
  },
  {
   "cell_type": "markdown",
   "metadata": {
    "papermill": {
     "duration": 0.044984,
     "end_time": "2021-01-27T06:10:56.144878",
     "exception": false,
     "start_time": "2021-01-27T06:10:56.099894",
     "status": "completed"
    },
    "tags": []
   },
   "source": [
    "<a id=\"1.1\"></a>\n",
    "<h3 style=\"background-color:gold;font-family:newtimeroman;font-size:200%;text-align:center\">Text generation and Recurrent Neural Networks</h3>"
   ]
  },
  {
   "cell_type": "markdown",
   "metadata": {
    "papermill": {
     "duration": 0.038415,
     "end_time": "2021-01-27T06:10:56.226912",
     "exception": false,
     "start_time": "2021-01-27T06:10:56.188497",
     "status": "completed"
    },
    "tags": []
   },
   "source": [
    "**<font size=\"3\"><a href=\"#chap1\">1. Text Processing</a></font>**\n",
    "**<br><font size=\"3\"><a href=\"#chap2\">2. Keras Tokenization</a></font>**\n",
    "**<br><font size=\"3\"><a href=\"#chap3\">3. LSTM</a></font>**\n",
    "**<br><font size=\"3\"><a href=\"#chap4\">4. Split the Data into Training and Test</a></font>**\n",
    "**<br><font size=\"3\"><a href=\"#chap5\">5. Training the model</a></font>**\n",
    "**<br><font size=\"3\"><a href=\"#chap6\">6. New text generation</a></font>**\n",
    "**<br><font size=\"3\"><a href=\"#chap7\">7. Exploring</a></font>**"
   ]
  },
  {
   "cell_type": "markdown",
   "metadata": {
    "papermill": {
     "duration": 0.037455,
     "end_time": "2021-01-27T06:10:56.301956",
     "exception": false,
     "start_time": "2021-01-27T06:10:56.264501",
     "status": "completed"
    },
    "tags": []
   },
   "source": [
    "<a id=\"chap1\"></a>\n",
    "<h3 style=\"background-color:gold;font-family:newtimeroman;font-size:200%;text-align:center\">Text Processing</h3>"
   ]
  },
  {
   "cell_type": "code",
   "execution_count": 1,
   "metadata": {
    "execution": {
     "iopub.execute_input": "2021-01-27T06:10:56.383038Z",
     "iopub.status.busy": "2021-01-27T06:10:56.382279Z",
     "iopub.status.idle": "2021-01-27T06:10:56.385431Z",
     "shell.execute_reply": "2021-01-27T06:10:56.384900Z"
    },
    "papermill": {
     "duration": 0.046071,
     "end_time": "2021-01-27T06:10:56.385607",
     "exception": false,
     "start_time": "2021-01-27T06:10:56.339536",
     "status": "completed"
    },
    "tags": []
   },
   "outputs": [],
   "source": [
    "## Convinience function for reading a file\n",
    "def read_file(filepath):\n",
    "    \n",
    "    with open(filepath) as f:\n",
    "        str_text = f.read()\n",
    "    \n",
    "    return str_text"
   ]
  },
  {
   "cell_type": "code",
   "execution_count": 2,
   "metadata": {
    "execution": {
     "iopub.execute_input": "2021-01-27T06:10:56.465422Z",
     "iopub.status.busy": "2021-01-27T06:10:56.464675Z",
     "iopub.status.idle": "2021-01-27T06:10:56.467580Z",
     "shell.execute_reply": "2021-01-27T06:10:56.467131Z"
    },
    "papermill": {
     "duration": 0.043872,
     "end_time": "2021-01-27T06:10:56.467692",
     "exception": false,
     "start_time": "2021-01-27T06:10:56.423820",
     "status": "completed"
    },
    "tags": []
   },
   "outputs": [],
   "source": [
    "# read_file(\"../input/the-great-gatsby/The Great Gatsby.txt\")"
   ]
  },
  {
   "cell_type": "code",
   "execution_count": 3,
   "metadata": {
    "execution": {
     "iopub.execute_input": "2021-01-27T06:10:56.547793Z",
     "iopub.status.busy": "2021-01-27T06:10:56.547163Z",
     "iopub.status.idle": "2021-01-27T06:10:56.568046Z",
     "shell.execute_reply": "2021-01-27T06:10:56.568463Z"
    },
    "papermill": {
     "duration": 0.062682,
     "end_time": "2021-01-27T06:10:56.568606",
     "exception": false,
     "start_time": "2021-01-27T06:10:56.505924",
     "status": "completed"
    },
    "tags": []
   },
   "outputs": [
    {
     "data": {
      "text/plain": [
       "273736"
      ]
     },
     "execution_count": 3,
     "metadata": {},
     "output_type": "execute_result"
    }
   ],
   "source": [
    "len(read_file(\"../input/the-great-gatsby/The Great Gatsby.txt\"))"
   ]
  },
  {
   "cell_type": "markdown",
   "metadata": {
    "papermill": {
     "duration": 0.038467,
     "end_time": "2021-01-27T06:10:56.645981",
     "exception": false,
     "start_time": "2021-01-27T06:10:56.607514",
     "status": "completed"
    },
    "tags": []
   },
   "source": [
    "`# Tokenizing and cleaning text`"
   ]
  },
  {
   "cell_type": "code",
   "execution_count": 4,
   "metadata": {
    "execution": {
     "iopub.execute_input": "2021-01-27T06:10:56.729956Z",
     "iopub.status.busy": "2021-01-27T06:10:56.729324Z",
     "iopub.status.idle": "2021-01-27T06:11:01.198273Z",
     "shell.execute_reply": "2021-01-27T06:11:01.197574Z"
    },
    "papermill": {
     "duration": 4.513041,
     "end_time": "2021-01-27T06:11:01.198435",
     "exception": false,
     "start_time": "2021-01-27T06:10:56.685394",
     "status": "completed"
    },
    "tags": []
   },
   "outputs": [],
   "source": [
    "import spacy\n",
    "\n",
    "nlp = spacy.load('en', disable=['parser', 'tagger', 'ner']) ## since I only want to use `tokenizer`, I can disable the other ones"
   ]
  },
  {
   "cell_type": "code",
   "execution_count": 5,
   "metadata": {
    "execution": {
     "iopub.execute_input": "2021-01-27T06:11:01.287797Z",
     "iopub.status.busy": "2021-01-27T06:11:01.287195Z",
     "iopub.status.idle": "2021-01-27T06:11:01.291328Z",
     "shell.execute_reply": "2021-01-27T06:11:01.290862Z"
    },
    "papermill": {
     "duration": 0.048035,
     "end_time": "2021-01-27T06:11:01.291450",
     "exception": false,
     "start_time": "2021-01-27T06:11:01.243415",
     "status": "completed"
    },
    "tags": []
   },
   "outputs": [],
   "source": [
    "nlp.max_length = 1198623 # Increasing SpaCys max-nlp limit to avoid errors like mentioned below"
   ]
  },
  {
   "cell_type": "markdown",
   "metadata": {
    "papermill": {
     "duration": 0.038974,
     "end_time": "2021-01-27T06:11:01.369495",
     "exception": false,
     "start_time": "2021-01-27T06:11:01.330521",
     "status": "completed"
    },
    "tags": []
   },
   "source": [
    "> [E088] Text of length 1029371 exceeds maximum of 1000000. The v2.x parser and NER models require roughly 1GB of temporary memory per 100,000 characters in the input. This means long texts may cause memory allocation errors. If you're not using the parser or NER, it's probably safe to increase the `nlp.max_length` limit. The limit is in number of characters, so you can check whether your inputs are too long by checking `len(text)`."
   ]
  },
  {
   "cell_type": "code",
   "execution_count": 6,
   "metadata": {
    "execution": {
     "iopub.execute_input": "2021-01-27T06:11:01.451348Z",
     "iopub.status.busy": "2021-01-27T06:11:01.450733Z",
     "iopub.status.idle": "2021-01-27T06:11:01.454626Z",
     "shell.execute_reply": "2021-01-27T06:11:01.454050Z"
    },
    "papermill": {
     "duration": 0.04641,
     "end_time": "2021-01-27T06:11:01.454738",
     "exception": false,
     "start_time": "2021-01-27T06:11:01.408328",
     "status": "completed"
    },
    "tags": []
   },
   "outputs": [],
   "source": [
    "## Separating the Punctuations from the text since we don't want our NN to train on those informations\n",
    "def separate_punc(doc_text):\n",
    "    return [token.text.lower() for token in nlp(doc_text) if token.text not in '\\n\\n \\n\\n\\n!\"-#$%&()--.*+,-/:;<=>?@[\\\\]^_`{|}~\\t\\n ']"
   ]
  },
  {
   "cell_type": "code",
   "execution_count": 7,
   "metadata": {
    "execution": {
     "iopub.execute_input": "2021-01-27T06:11:01.536551Z",
     "iopub.status.busy": "2021-01-27T06:11:01.535981Z",
     "iopub.status.idle": "2021-01-27T06:11:02.078788Z",
     "shell.execute_reply": "2021-01-27T06:11:02.078181Z"
    },
    "papermill": {
     "duration": 0.585088,
     "end_time": "2021-01-27T06:11:02.078964",
     "exception": false,
     "start_time": "2021-01-27T06:11:01.493876",
     "status": "completed"
    },
    "tags": []
   },
   "outputs": [],
   "source": [
    "doc = read_file(\"../input/the-great-gatsby/The Great Gatsby.txt\")\n",
    "tokens = separate_punc(doc)"
   ]
  },
  {
   "cell_type": "code",
   "execution_count": 8,
   "metadata": {
    "execution": {
     "iopub.execute_input": "2021-01-27T06:11:02.167474Z",
     "iopub.status.busy": "2021-01-27T06:11:02.165805Z",
     "iopub.status.idle": "2021-01-27T06:11:02.168143Z",
     "shell.execute_reply": "2021-01-27T06:11:02.168610Z"
    },
    "papermill": {
     "duration": 0.046903,
     "end_time": "2021-01-27T06:11:02.168746",
     "exception": false,
     "start_time": "2021-01-27T06:11:02.121843",
     "status": "completed"
    },
    "tags": []
   },
   "outputs": [],
   "source": [
    "# tokens"
   ]
  },
  {
   "cell_type": "code",
   "execution_count": 9,
   "metadata": {
    "execution": {
     "iopub.execute_input": "2021-01-27T06:11:02.253432Z",
     "iopub.status.busy": "2021-01-27T06:11:02.252854Z",
     "iopub.status.idle": "2021-01-27T06:11:02.258556Z",
     "shell.execute_reply": "2021-01-27T06:11:02.259107Z"
    },
    "papermill": {
     "duration": 0.050162,
     "end_time": "2021-01-27T06:11:02.259261",
     "exception": false,
     "start_time": "2021-01-27T06:11:02.209099",
     "status": "completed"
    },
    "tags": []
   },
   "outputs": [
    {
     "data": {
      "text/plain": [
       "54609"
      ]
     },
     "execution_count": 9,
     "metadata": {},
     "output_type": "execute_result"
    }
   ],
   "source": [
    "len(tokens)"
   ]
  },
  {
   "cell_type": "markdown",
   "metadata": {
    "papermill": {
     "duration": 0.039713,
     "end_time": "2021-01-27T06:11:02.338874",
     "exception": false,
     "start_time": "2021-01-27T06:11:02.299161",
     "status": "completed"
    },
    "tags": []
   },
   "source": [
    "`## Let's create something so that when we pass in the first #25 words, it should automatically predict the next word in the sequence, i.e. #26`"
   ]
  },
  {
   "cell_type": "code",
   "execution_count": 10,
   "metadata": {
    "execution": {
     "iopub.execute_input": "2021-01-27T06:11:02.534949Z",
     "iopub.status.busy": "2021-01-27T06:11:02.426525Z",
     "iopub.status.idle": "2021-01-27T06:11:02.572239Z",
     "shell.execute_reply": "2021-01-27T06:11:02.571680Z"
    },
    "papermill": {
     "duration": 0.193718,
     "end_time": "2021-01-27T06:11:02.572374",
     "exception": false,
     "start_time": "2021-01-27T06:11:02.378656",
     "status": "completed"
    },
    "tags": []
   },
   "outputs": [],
   "source": [
    "# organize into sequences of tokens\n",
    "train_len = 25+1 # 50 training words , then one target word\n",
    "\n",
    "# Empty list of sequences\n",
    "text_sequences = []\n",
    "\n",
    "for i in range(train_len, len(tokens)):\n",
    "    \n",
    "    # Grab train_len# amount of characters\n",
    "    seq = tokens[i-train_len:i]\n",
    "    \n",
    "    # Add to list of sequences\n",
    "    text_sequences.append(seq)"
   ]
  },
  {
   "cell_type": "code",
   "execution_count": 11,
   "metadata": {
    "execution": {
     "iopub.execute_input": "2021-01-27T06:11:02.657902Z",
     "iopub.status.busy": "2021-01-27T06:11:02.657266Z",
     "iopub.status.idle": "2021-01-27T06:11:02.663588Z",
     "shell.execute_reply": "2021-01-27T06:11:02.663093Z"
    },
    "papermill": {
     "duration": 0.050727,
     "end_time": "2021-01-27T06:11:02.663710",
     "exception": false,
     "start_time": "2021-01-27T06:11:02.612983",
     "status": "completed"
    },
    "tags": []
   },
   "outputs": [
    {
     "data": {
      "text/plain": [
       "list"
      ]
     },
     "execution_count": 11,
     "metadata": {},
     "output_type": "execute_result"
    }
   ],
   "source": [
    "type(text_sequences)"
   ]
  },
  {
   "cell_type": "code",
   "execution_count": 12,
   "metadata": {
    "execution": {
     "iopub.execute_input": "2021-01-27T06:11:02.749098Z",
     "iopub.status.busy": "2021-01-27T06:11:02.748477Z",
     "iopub.status.idle": "2021-01-27T06:11:02.753859Z",
     "shell.execute_reply": "2021-01-27T06:11:02.753374Z"
    },
    "papermill": {
     "duration": 0.049923,
     "end_time": "2021-01-27T06:11:02.753980",
     "exception": false,
     "start_time": "2021-01-27T06:11:02.704057",
     "status": "completed"
    },
    "tags": []
   },
   "outputs": [
    {
     "data": {
      "text/plain": [
       "['great',\n",
       " 'gatsby',\n",
       " 'by',\n",
       " 'fe',\n",
       " 'scott',\n",
       " 'fitzgerald',\n",
       " 'a',\n",
       " 'sa',\n",
       " 'ie',\n",
       " 'el',\n",
       " 'ee',\n",
       " 'lee',\n",
       " '\\n\\x0c',\n",
       " '‘',\n",
       " 'then',\n",
       " 'wear',\n",
       " 'the',\n",
       " 'gold',\n",
       " 'hat',\n",
       " 'if',\n",
       " 'that',\n",
       " 'will',\n",
       " 'move',\n",
       " 'her',\n",
       " 'if',\n",
       " 'you']"
      ]
     },
     "execution_count": 12,
     "metadata": {},
     "output_type": "execute_result"
    }
   ],
   "source": [
    "text_sequences[1]"
   ]
  },
  {
   "cell_type": "code",
   "execution_count": 13,
   "metadata": {
    "execution": {
     "iopub.execute_input": "2021-01-27T06:11:02.841297Z",
     "iopub.status.busy": "2021-01-27T06:11:02.840477Z",
     "iopub.status.idle": "2021-01-27T06:11:02.844376Z",
     "shell.execute_reply": "2021-01-27T06:11:02.843804Z"
    },
    "papermill": {
     "duration": 0.049494,
     "end_time": "2021-01-27T06:11:02.844491",
     "exception": false,
     "start_time": "2021-01-27T06:11:02.794997",
     "status": "completed"
    },
    "tags": []
   },
   "outputs": [
    {
     "data": {
      "text/plain": [
       "'great gatsby by fe scott fitzgerald a sa ie el ee lee \\n\\x0c ‘ then wear the gold hat if that will move her if you'"
      ]
     },
     "execution_count": 13,
     "metadata": {},
     "output_type": "execute_result"
    }
   ],
   "source": [
    "\" \".join(text_sequences[1])"
   ]
  },
  {
   "cell_type": "code",
   "execution_count": 14,
   "metadata": {
    "execution": {
     "iopub.execute_input": "2021-01-27T06:11:02.932394Z",
     "iopub.status.busy": "2021-01-27T06:11:02.931701Z",
     "iopub.status.idle": "2021-01-27T06:11:02.935213Z",
     "shell.execute_reply": "2021-01-27T06:11:02.934739Z"
    },
    "papermill": {
     "duration": 0.04914,
     "end_time": "2021-01-27T06:11:02.935327",
     "exception": false,
     "start_time": "2021-01-27T06:11:02.886187",
     "status": "completed"
    },
    "tags": []
   },
   "outputs": [
    {
     "data": {
      "text/plain": [
       "'gatsby by fe scott fitzgerald a sa ie el ee lee \\n\\x0c ‘ then wear the gold hat if that will move her if you can'"
      ]
     },
     "execution_count": 14,
     "metadata": {},
     "output_type": "execute_result"
    }
   ],
   "source": [
    "\" \".join(text_sequences[2])"
   ]
  },
  {
   "cell_type": "code",
   "execution_count": 15,
   "metadata": {
    "execution": {
     "iopub.execute_input": "2021-01-27T06:11:03.023311Z",
     "iopub.status.busy": "2021-01-27T06:11:03.022567Z",
     "iopub.status.idle": "2021-01-27T06:11:03.025605Z",
     "shell.execute_reply": "2021-01-27T06:11:03.026158Z"
    },
    "papermill": {
     "duration": 0.049204,
     "end_time": "2021-01-27T06:11:03.026294",
     "exception": false,
     "start_time": "2021-01-27T06:11:02.977090",
     "status": "completed"
    },
    "tags": []
   },
   "outputs": [
    {
     "data": {
      "text/plain": [
       "54583"
      ]
     },
     "execution_count": 15,
     "metadata": {},
     "output_type": "execute_result"
    }
   ],
   "source": [
    "len(text_sequences)"
   ]
  },
  {
   "cell_type": "markdown",
   "metadata": {
    "papermill": {
     "duration": 0.046488,
     "end_time": "2021-01-27T06:11:03.114834",
     "exception": false,
     "start_time": "2021-01-27T06:11:03.068346",
     "status": "completed"
    },
    "tags": []
   },
   "source": [
    "<a id=\"chap2\"></a>\n",
    "<h3 style=\"background-color:gold;font-family:newtimeroman;font-size:200%;text-align:center\">Tokenization using Keras</h3>"
   ]
  },
  {
   "cell_type": "code",
   "execution_count": 16,
   "metadata": {
    "execution": {
     "iopub.execute_input": "2021-01-27T06:11:03.211091Z",
     "iopub.status.busy": "2021-01-27T06:11:03.210478Z",
     "iopub.status.idle": "2021-01-27T06:11:08.272706Z",
     "shell.execute_reply": "2021-01-27T06:11:08.271673Z"
    },
    "papermill": {
     "duration": 5.108146,
     "end_time": "2021-01-27T06:11:08.272888",
     "exception": false,
     "start_time": "2021-01-27T06:11:03.164742",
     "status": "completed"
    },
    "tags": []
   },
   "outputs": [],
   "source": [
    "from keras.preprocessing.text import Tokenizer"
   ]
  },
  {
   "cell_type": "code",
   "execution_count": 17,
   "metadata": {
    "execution": {
     "iopub.execute_input": "2021-01-27T06:11:08.387951Z",
     "iopub.status.busy": "2021-01-27T06:11:08.377690Z",
     "iopub.status.idle": "2021-01-27T06:11:10.261659Z",
     "shell.execute_reply": "2021-01-27T06:11:10.261087Z"
    },
    "papermill": {
     "duration": 1.945471,
     "end_time": "2021-01-27T06:11:10.261810",
     "exception": false,
     "start_time": "2021-01-27T06:11:08.316339",
     "status": "completed"
    },
    "tags": []
   },
   "outputs": [],
   "source": [
    "# integer encode sequences of words\n",
    "## We're replacing the above shown sequence of words into numbers\n",
    "tokenizer = Tokenizer()\n",
    "tokenizer.fit_on_texts(text_sequences)\n",
    "sequences = tokenizer.texts_to_sequences(text_sequences)"
   ]
  },
  {
   "cell_type": "code",
   "execution_count": 18,
   "metadata": {
    "execution": {
     "iopub.execute_input": "2021-01-27T06:11:10.354039Z",
     "iopub.status.busy": "2021-01-27T06:11:10.353179Z",
     "iopub.status.idle": "2021-01-27T06:11:10.357193Z",
     "shell.execute_reply": "2021-01-27T06:11:10.356685Z"
    },
    "papermill": {
     "duration": 0.05194,
     "end_time": "2021-01-27T06:11:10.357326",
     "exception": false,
     "start_time": "2021-01-27T06:11:10.305386",
     "status": "completed"
    },
    "tags": []
   },
   "outputs": [
    {
     "data": {
      "text/plain": [
       "[61,\n",
       " 25,\n",
       " 59,\n",
       " 6645,\n",
       " 6644,\n",
       " 6643,\n",
       " 3,\n",
       " 6642,\n",
       " 6641,\n",
       " 1869,\n",
       " 1418,\n",
       " 6640,\n",
       " 40,\n",
       " 9,\n",
       " 54,\n",
       " 1868,\n",
       " 1,\n",
       " 625,\n",
       " 1150,\n",
       " 57,\n",
       " 13,\n",
       " 296,\n",
       " 624,\n",
       " 23,\n",
       " 57,\n",
       " 15]"
      ]
     },
     "execution_count": 18,
     "metadata": {},
     "output_type": "execute_result"
    }
   ],
   "source": [
    "sequences[1] ## Each of this number is an ID for a particular word"
   ]
  },
  {
   "cell_type": "code",
   "execution_count": 19,
   "metadata": {
    "execution": {
     "iopub.execute_input": "2021-01-27T06:11:10.453728Z",
     "iopub.status.busy": "2021-01-27T06:11:10.452837Z",
     "iopub.status.idle": "2021-01-27T06:11:10.463752Z",
     "shell.execute_reply": "2021-01-27T06:11:10.464422Z"
    },
    "papermill": {
     "duration": 0.063576,
     "end_time": "2021-01-27T06:11:10.464616",
     "exception": false,
     "start_time": "2021-01-27T06:11:10.401040",
     "status": "completed"
    },
    "tags": []
   },
   "outputs": [],
   "source": [
    "## To check the relationship mapping between each word/sequence_number\n",
    "# for i in sequences[0]:\n",
    "#     print(f'{i} : {tokenizer.index_word[i]}')\n",
    "\n",
    "# tokenizer.index_word"
   ]
  },
  {
   "cell_type": "code",
   "execution_count": 20,
   "metadata": {
    "execution": {
     "iopub.execute_input": "2021-01-27T06:11:10.612845Z",
     "iopub.status.busy": "2021-01-27T06:11:10.612001Z",
     "iopub.status.idle": "2021-01-27T06:11:10.614236Z",
     "shell.execute_reply": "2021-01-27T06:11:10.613573Z"
    },
    "papermill": {
     "duration": 0.079341,
     "end_time": "2021-01-27T06:11:10.614394",
     "exception": false,
     "start_time": "2021-01-27T06:11:10.535053",
     "status": "completed"
    },
    "tags": []
   },
   "outputs": [],
   "source": [
    "## Let's count how many times a word shows up\n",
    "# tokenizer.word_counts"
   ]
  },
  {
   "cell_type": "code",
   "execution_count": 21,
   "metadata": {
    "execution": {
     "iopub.execute_input": "2021-01-27T06:11:10.768035Z",
     "iopub.status.busy": "2021-01-27T06:11:10.767135Z",
     "iopub.status.idle": "2021-01-27T06:11:10.769466Z",
     "shell.execute_reply": "2021-01-27T06:11:10.768785Z"
    },
    "papermill": {
     "duration": 0.076792,
     "end_time": "2021-01-27T06:11:10.769615",
     "exception": false,
     "start_time": "2021-01-27T06:11:10.692823",
     "status": "completed"
    },
    "tags": []
   },
   "outputs": [],
   "source": [
    "vocabulary_size = len(tokenizer.word_counts)"
   ]
  },
  {
   "cell_type": "code",
   "execution_count": 22,
   "metadata": {
    "execution": {
     "iopub.execute_input": "2021-01-27T06:11:10.898602Z",
     "iopub.status.busy": "2021-01-27T06:11:10.897676Z",
     "iopub.status.idle": "2021-01-27T06:11:10.901366Z",
     "shell.execute_reply": "2021-01-27T06:11:10.899484Z"
    },
    "papermill": {
     "duration": 0.071551,
     "end_time": "2021-01-27T06:11:10.901521",
     "exception": false,
     "start_time": "2021-01-27T06:11:10.829970",
     "status": "completed"
    },
    "tags": []
   },
   "outputs": [
    {
     "data": {
      "text/plain": [
       "6646"
      ]
     },
     "execution_count": 22,
     "metadata": {},
     "output_type": "execute_result"
    }
   ],
   "source": [
    "vocabulary_size ## size of the vocabulary"
   ]
  },
  {
   "cell_type": "markdown",
   "metadata": {
    "papermill": {
     "duration": 0.072752,
     "end_time": "2021-01-27T06:11:11.035662",
     "exception": false,
     "start_time": "2021-01-27T06:11:10.962910",
     "status": "completed"
    },
    "tags": []
   },
   "source": [
    "`# Format the \"type(sequences) -----> list\" into a Numpy Matrix (ndarray)`"
   ]
  },
  {
   "cell_type": "code",
   "execution_count": 23,
   "metadata": {
    "execution": {
     "iopub.execute_input": "2021-01-27T06:11:11.175556Z",
     "iopub.status.busy": "2021-01-27T06:11:11.174744Z",
     "iopub.status.idle": "2021-01-27T06:11:11.176866Z",
     "shell.execute_reply": "2021-01-27T06:11:11.176248Z"
    },
    "papermill": {
     "duration": 0.068552,
     "end_time": "2021-01-27T06:11:11.177015",
     "exception": false,
     "start_time": "2021-01-27T06:11:11.108463",
     "status": "completed"
    },
    "tags": []
   },
   "outputs": [],
   "source": [
    "import numpy as np"
   ]
  },
  {
   "cell_type": "code",
   "execution_count": 24,
   "metadata": {
    "execution": {
     "iopub.execute_input": "2021-01-27T06:11:11.723353Z",
     "iopub.status.busy": "2021-01-27T06:11:11.722418Z",
     "iopub.status.idle": "2021-01-27T06:11:11.726878Z",
     "shell.execute_reply": "2021-01-27T06:11:11.725722Z"
    },
    "papermill": {
     "duration": 0.492889,
     "end_time": "2021-01-27T06:11:11.727037",
     "exception": false,
     "start_time": "2021-01-27T06:11:11.234148",
     "status": "completed"
    },
    "tags": []
   },
   "outputs": [],
   "source": [
    "sequences = np.array(sequences)"
   ]
  },
  {
   "cell_type": "code",
   "execution_count": 25,
   "metadata": {
    "execution": {
     "iopub.execute_input": "2021-01-27T06:11:11.825913Z",
     "iopub.status.busy": "2021-01-27T06:11:11.824596Z",
     "iopub.status.idle": "2021-01-27T06:11:11.828075Z",
     "shell.execute_reply": "2021-01-27T06:11:11.828572Z"
    },
    "papermill": {
     "duration": 0.05533,
     "end_time": "2021-01-27T06:11:11.828753",
     "exception": false,
     "start_time": "2021-01-27T06:11:11.773423",
     "status": "completed"
    },
    "tags": []
   },
   "outputs": [
    {
     "data": {
      "text/plain": [
       "numpy.ndarray"
      ]
     },
     "execution_count": 25,
     "metadata": {},
     "output_type": "execute_result"
    }
   ],
   "source": [
    "type(sequences)"
   ]
  },
  {
   "cell_type": "code",
   "execution_count": 26,
   "metadata": {
    "execution": {
     "iopub.execute_input": "2021-01-27T06:11:11.929747Z",
     "iopub.status.busy": "2021-01-27T06:11:11.928358Z",
     "iopub.status.idle": "2021-01-27T06:11:11.931967Z",
     "shell.execute_reply": "2021-01-27T06:11:11.932416Z"
    },
    "papermill": {
     "duration": 0.057155,
     "end_time": "2021-01-27T06:11:11.932635",
     "exception": false,
     "start_time": "2021-01-27T06:11:11.875480",
     "status": "completed"
    },
    "tags": []
   },
   "outputs": [
    {
     "data": {
      "text/plain": [
       "array([[   1,   61,   25, ...,  624,   23,   57],\n",
       "       [  61,   25,   59, ...,   23,   57,   15],\n",
       "       [  25,   59, 6645, ...,   57,   15,  229],\n",
       "       ...,\n",
       "       [   2,   46,  537, ...,   79,   16,   80],\n",
       "       [  46,  537,  238, ...,   16,   80,   81],\n",
       "       [ 537,  238,   18, ...,   80,   81, 6646]])"
      ]
     },
     "execution_count": 26,
     "metadata": {},
     "output_type": "execute_result"
    }
   ],
   "source": [
    "sequences"
   ]
  },
  {
   "cell_type": "markdown",
   "metadata": {
    "papermill": {
     "duration": 0.046292,
     "end_time": "2021-01-27T06:11:12.025606",
     "exception": false,
     "start_time": "2021-01-27T06:11:11.979314",
     "status": "completed"
    },
    "tags": []
   },
   "source": [
    "<a id=\"chap3\"></a>\n",
    "<h3 style=\"background-color:gold;font-family:newtimeroman;font-size:200%;text-align:center\">LSTM CELL</h3>"
   ]
  },
  {
   "cell_type": "code",
   "execution_count": 27,
   "metadata": {
    "execution": {
     "iopub.execute_input": "2021-01-27T06:11:12.125364Z",
     "iopub.status.busy": "2021-01-27T06:11:12.123623Z",
     "iopub.status.idle": "2021-01-27T06:11:12.126085Z",
     "shell.execute_reply": "2021-01-27T06:11:12.126553Z"
    },
    "papermill": {
     "duration": 0.055221,
     "end_time": "2021-01-27T06:11:12.126684",
     "exception": false,
     "start_time": "2021-01-27T06:11:12.071463",
     "status": "completed"
    },
    "tags": []
   },
   "outputs": [],
   "source": [
    "import keras\n",
    "from keras.models import Sequential\n",
    "from keras.layers import Dense,LSTM,Embedding"
   ]
  },
  {
   "cell_type": "code",
   "execution_count": 28,
   "metadata": {
    "execution": {
     "iopub.execute_input": "2021-01-27T06:11:12.225507Z",
     "iopub.status.busy": "2021-01-27T06:11:12.224780Z",
     "iopub.status.idle": "2021-01-27T06:11:12.227849Z",
     "shell.execute_reply": "2021-01-27T06:11:12.227363Z"
    },
    "papermill": {
     "duration": 0.054651,
     "end_time": "2021-01-27T06:11:12.227974",
     "exception": false,
     "start_time": "2021-01-27T06:11:12.173323",
     "status": "completed"
    },
    "tags": []
   },
   "outputs": [],
   "source": [
    "def create_model(vocabulary_size, seq_len):\n",
    "    model = Sequential()\n",
    "    model.add(Embedding(vocabulary_size, 25, input_length=seq_len))\n",
    "    model.add(LSTM(150, return_sequences=True))\n",
    "    model.add(LSTM(150))\n",
    "    model.add(Dense(150, activation='relu'))\n",
    "\n",
    "    model.add(Dense(vocabulary_size, activation='softmax'))\n",
    "    \n",
    "    model.compile(loss='categorical_crossentropy', optimizer='adam', metrics=['accuracy'])\n",
    "   \n",
    "    model.summary()\n",
    "    \n",
    "    return model"
   ]
  },
  {
   "cell_type": "markdown",
   "metadata": {
    "papermill": {
     "duration": 0.046069,
     "end_time": "2021-01-27T06:11:12.320348",
     "exception": false,
     "start_time": "2021-01-27T06:11:12.274279",
     "status": "completed"
    },
    "tags": []
   },
   "source": [
    "<a id=\"chap4\"></a>\n",
    "<h3 style=\"background-color:gold;font-family:newtimeroman;font-size:200%;text-align:center\">Splitting the dataset</h3>"
   ]
  },
  {
   "cell_type": "code",
   "execution_count": 29,
   "metadata": {
    "execution": {
     "iopub.execute_input": "2021-01-27T06:11:12.416420Z",
     "iopub.status.busy": "2021-01-27T06:11:12.415642Z",
     "iopub.status.idle": "2021-01-27T06:11:12.418819Z",
     "shell.execute_reply": "2021-01-27T06:11:12.418219Z"
    },
    "papermill": {
     "duration": 0.052486,
     "end_time": "2021-01-27T06:11:12.418960",
     "exception": false,
     "start_time": "2021-01-27T06:11:12.366474",
     "status": "completed"
    },
    "tags": []
   },
   "outputs": [],
   "source": [
    "from keras.utils import to_categorical"
   ]
  },
  {
   "cell_type": "code",
   "execution_count": 30,
   "metadata": {
    "execution": {
     "iopub.execute_input": "2021-01-27T06:11:12.517245Z",
     "iopub.status.busy": "2021-01-27T06:11:12.516423Z",
     "iopub.status.idle": "2021-01-27T06:11:12.520565Z",
     "shell.execute_reply": "2021-01-27T06:11:12.520065Z"
    },
    "papermill": {
     "duration": 0.055194,
     "end_time": "2021-01-27T06:11:12.520677",
     "exception": false,
     "start_time": "2021-01-27T06:11:12.465483",
     "status": "completed"
    },
    "tags": []
   },
   "outputs": [
    {
     "data": {
      "text/plain": [
       "array([[   1,   61,   25, ...,  624,   23,   57],\n",
       "       [  61,   25,   59, ...,   23,   57,   15],\n",
       "       [  25,   59, 6645, ...,   57,   15,  229],\n",
       "       ...,\n",
       "       [   2,   46,  537, ...,   79,   16,   80],\n",
       "       [  46,  537,  238, ...,   16,   80,   81],\n",
       "       [ 537,  238,   18, ...,   80,   81, 6646]])"
      ]
     },
     "execution_count": 30,
     "metadata": {},
     "output_type": "execute_result"
    }
   ],
   "source": [
    "sequences"
   ]
  },
  {
   "cell_type": "code",
   "execution_count": 31,
   "metadata": {
    "execution": {
     "iopub.execute_input": "2021-01-27T06:11:12.619165Z",
     "iopub.status.busy": "2021-01-27T06:11:12.618124Z",
     "iopub.status.idle": "2021-01-27T06:11:12.621795Z",
     "shell.execute_reply": "2021-01-27T06:11:12.622224Z"
    },
    "papermill": {
     "duration": 0.055036,
     "end_time": "2021-01-27T06:11:12.622358",
     "exception": false,
     "start_time": "2021-01-27T06:11:12.567322",
     "status": "completed"
    },
    "tags": []
   },
   "outputs": [
    {
     "data": {
      "text/plain": [
       "array([[   1,   61,   25, ...,  296,  624,   23],\n",
       "       [  61,   25,   59, ...,  624,   23,   57],\n",
       "       [  25,   59, 6645, ...,   23,   57,   15],\n",
       "       ...,\n",
       "       [   2,   46,  537, ...,   76,   79,   16],\n",
       "       [  46,  537,  238, ...,   79,   16,   80],\n",
       "       [ 537,  238,   18, ...,   16,   80,   81]])"
      ]
     },
     "execution_count": 31,
     "metadata": {},
     "output_type": "execute_result"
    }
   ],
   "source": [
    "# First 49 words\n",
    "sequences[:,:-1]"
   ]
  },
  {
   "cell_type": "code",
   "execution_count": 32,
   "metadata": {
    "execution": {
     "iopub.execute_input": "2021-01-27T06:11:12.722094Z",
     "iopub.status.busy": "2021-01-27T06:11:12.721266Z",
     "iopub.status.idle": "2021-01-27T06:11:12.724108Z",
     "shell.execute_reply": "2021-01-27T06:11:12.723627Z"
    },
    "papermill": {
     "duration": 0.05415,
     "end_time": "2021-01-27T06:11:12.724237",
     "exception": false,
     "start_time": "2021-01-27T06:11:12.670087",
     "status": "completed"
    },
    "tags": []
   },
   "outputs": [],
   "source": [
    "X = sequences[:,:-1]"
   ]
  },
  {
   "cell_type": "code",
   "execution_count": 33,
   "metadata": {
    "execution": {
     "iopub.execute_input": "2021-01-27T06:11:12.823675Z",
     "iopub.status.busy": "2021-01-27T06:11:12.822892Z",
     "iopub.status.idle": "2021-01-27T06:11:12.826024Z",
     "shell.execute_reply": "2021-01-27T06:11:12.825515Z"
    },
    "papermill": {
     "duration": 0.054578,
     "end_time": "2021-01-27T06:11:12.826147",
     "exception": false,
     "start_time": "2021-01-27T06:11:12.771569",
     "status": "completed"
    },
    "tags": []
   },
   "outputs": [],
   "source": [
    "y = sequences[:,-1]"
   ]
  },
  {
   "cell_type": "code",
   "execution_count": 34,
   "metadata": {
    "execution": {
     "iopub.execute_input": "2021-01-27T06:11:12.926489Z",
     "iopub.status.busy": "2021-01-27T06:11:12.925556Z",
     "iopub.status.idle": "2021-01-27T06:11:13.040629Z",
     "shell.execute_reply": "2021-01-27T06:11:13.040084Z"
    },
    "papermill": {
     "duration": 0.166728,
     "end_time": "2021-01-27T06:11:13.040798",
     "exception": false,
     "start_time": "2021-01-27T06:11:12.874070",
     "status": "completed"
    },
    "tags": []
   },
   "outputs": [],
   "source": [
    "y = to_categorical(y, num_classes=vocabulary_size+1)"
   ]
  },
  {
   "cell_type": "code",
   "execution_count": 35,
   "metadata": {
    "execution": {
     "iopub.execute_input": "2021-01-27T06:11:13.143220Z",
     "iopub.status.busy": "2021-01-27T06:11:13.142471Z",
     "iopub.status.idle": "2021-01-27T06:11:13.145421Z",
     "shell.execute_reply": "2021-01-27T06:11:13.144938Z"
    },
    "papermill": {
     "duration": 0.056672,
     "end_time": "2021-01-27T06:11:13.145542",
     "exception": false,
     "start_time": "2021-01-27T06:11:13.088870",
     "status": "completed"
    },
    "tags": []
   },
   "outputs": [],
   "source": [
    "seq_len = X.shape[1]"
   ]
  },
  {
   "cell_type": "code",
   "execution_count": 36,
   "metadata": {
    "execution": {
     "iopub.execute_input": "2021-01-27T06:11:13.246289Z",
     "iopub.status.busy": "2021-01-27T06:11:13.245469Z",
     "iopub.status.idle": "2021-01-27T06:11:13.249332Z",
     "shell.execute_reply": "2021-01-27T06:11:13.248734Z"
    },
    "papermill": {
     "duration": 0.056017,
     "end_time": "2021-01-27T06:11:13.249448",
     "exception": false,
     "start_time": "2021-01-27T06:11:13.193431",
     "status": "completed"
    },
    "tags": []
   },
   "outputs": [
    {
     "data": {
      "text/plain": [
       "25"
      ]
     },
     "execution_count": 36,
     "metadata": {},
     "output_type": "execute_result"
    }
   ],
   "source": [
    "seq_len"
   ]
  },
  {
   "cell_type": "markdown",
   "metadata": {
    "papermill": {
     "duration": 0.048237,
     "end_time": "2021-01-27T06:11:13.345746",
     "exception": false,
     "start_time": "2021-01-27T06:11:13.297509",
     "status": "completed"
    },
    "tags": []
   },
   "source": [
    "<a id=\"chap5\"></a>\n",
    "<h3 style=\"background-color:gold;font-family:newtimeroman;font-size:200%;text-align:center\">Model Training</h3>"
   ]
  },
  {
   "cell_type": "code",
   "execution_count": 37,
   "metadata": {
    "execution": {
     "iopub.execute_input": "2021-01-27T06:11:13.447286Z",
     "iopub.status.busy": "2021-01-27T06:11:13.446675Z",
     "iopub.status.idle": "2021-01-27T06:11:16.569503Z",
     "shell.execute_reply": "2021-01-27T06:11:16.570536Z"
    },
    "papermill": {
     "duration": 3.175926,
     "end_time": "2021-01-27T06:11:16.570741",
     "exception": false,
     "start_time": "2021-01-27T06:11:13.394815",
     "status": "completed"
    },
    "tags": []
   },
   "outputs": [
    {
     "name": "stdout",
     "output_type": "stream",
     "text": [
      "Model: \"sequential\"\n",
      "_________________________________________________________________\n",
      "Layer (type)                 Output Shape              Param #   \n",
      "=================================================================\n",
      "embedding (Embedding)        (None, 25, 25)            166175    \n",
      "_________________________________________________________________\n",
      "lstm (LSTM)                  (None, 25, 150)           105600    \n",
      "_________________________________________________________________\n",
      "lstm_1 (LSTM)                (None, 150)               180600    \n",
      "_________________________________________________________________\n",
      "dense (Dense)                (None, 150)               22650     \n",
      "_________________________________________________________________\n",
      "dense_1 (Dense)              (None, 6647)              1003697   \n",
      "=================================================================\n",
      "Total params: 1,478,722\n",
      "Trainable params: 1,478,722\n",
      "Non-trainable params: 0\n",
      "_________________________________________________________________\n"
     ]
    }
   ],
   "source": [
    "# define model\n",
    "model = create_model(vocabulary_size+1, seq_len)"
   ]
  },
  {
   "cell_type": "code",
   "execution_count": 38,
   "metadata": {
    "execution": {
     "iopub.execute_input": "2021-01-27T06:11:16.675479Z",
     "iopub.status.busy": "2021-01-27T06:11:16.674735Z",
     "iopub.status.idle": "2021-01-27T06:11:16.677874Z",
     "shell.execute_reply": "2021-01-27T06:11:16.677349Z"
    },
    "papermill": {
     "duration": 0.057771,
     "end_time": "2021-01-27T06:11:16.677997",
     "exception": false,
     "start_time": "2021-01-27T06:11:16.620226",
     "status": "completed"
    },
    "tags": []
   },
   "outputs": [],
   "source": [
    "from pickle import dump,load"
   ]
  },
  {
   "cell_type": "code",
   "execution_count": 39,
   "metadata": {
    "execution": {
     "iopub.execute_input": "2021-01-27T06:11:16.781102Z",
     "iopub.status.busy": "2021-01-27T06:11:16.780429Z",
     "iopub.status.idle": "2021-01-27T06:50:09.786543Z",
     "shell.execute_reply": "2021-01-27T06:50:09.786060Z"
    },
    "papermill": {
     "duration": 2333.059057,
     "end_time": "2021-01-27T06:50:09.786680",
     "exception": false,
     "start_time": "2021-01-27T06:11:16.727623",
     "status": "completed"
    },
    "tags": []
   },
   "outputs": [
    {
     "name": "stdout",
     "output_type": "stream",
     "text": [
      "Epoch 1/400\n",
      "427/427 [==============================] - 11s 13ms/step - loss: 7.0564 - accuracy: 0.0441\n",
      "Epoch 2/400\n",
      "427/427 [==============================] - 6s 14ms/step - loss: 6.3566 - accuracy: 0.0467\n",
      "Epoch 3/400\n",
      "427/427 [==============================] - 5s 13ms/step - loss: 6.0874 - accuracy: 0.0624\n",
      "Epoch 4/400\n",
      "427/427 [==============================] - 6s 13ms/step - loss: 5.9063 - accuracy: 0.0696\n",
      "Epoch 5/400\n",
      "427/427 [==============================] - 6s 14ms/step - loss: 5.7792 - accuracy: 0.0830\n",
      "Epoch 6/400\n",
      "427/427 [==============================] - 6s 13ms/step - loss: 5.6180 - accuracy: 0.0972\n",
      "Epoch 7/400\n",
      "427/427 [==============================] - 5s 13ms/step - loss: 5.4638 - accuracy: 0.1081\n",
      "Epoch 8/400\n",
      "427/427 [==============================] - 6s 13ms/step - loss: 5.3513 - accuracy: 0.1161\n",
      "Epoch 9/400\n",
      "427/427 [==============================] - 5s 13ms/step - loss: 5.2366 - accuracy: 0.1252\n",
      "Epoch 10/400\n",
      "427/427 [==============================] - 6s 14ms/step - loss: 5.1215 - accuracy: 0.1320\n",
      "Epoch 11/400\n",
      "427/427 [==============================] - 6s 13ms/step - loss: 5.0289 - accuracy: 0.1348\n",
      "Epoch 12/400\n",
      "427/427 [==============================] - 6s 13ms/step - loss: 4.9154 - accuracy: 0.1432\n",
      "Epoch 13/400\n",
      "427/427 [==============================] - 6s 13ms/step - loss: 4.8249 - accuracy: 0.1480\n",
      "Epoch 14/400\n",
      "427/427 [==============================] - 6s 13ms/step - loss: 4.7230 - accuracy: 0.1517\n",
      "Epoch 15/400\n",
      "427/427 [==============================] - 6s 13ms/step - loss: 4.6367 - accuracy: 0.1526\n",
      "Epoch 16/400\n",
      "427/427 [==============================] - 6s 14ms/step - loss: 4.5369 - accuracy: 0.1596\n",
      "Epoch 17/400\n",
      "427/427 [==============================] - 5s 13ms/step - loss: 4.4528 - accuracy: 0.1620\n",
      "Epoch 18/400\n",
      "427/427 [==============================] - 6s 13ms/step - loss: 4.3690 - accuracy: 0.1666\n",
      "Epoch 19/400\n",
      "427/427 [==============================] - 5s 13ms/step - loss: 4.3068 - accuracy: 0.1696\n",
      "Epoch 20/400\n",
      "427/427 [==============================] - 6s 13ms/step - loss: 4.2268 - accuracy: 0.1755\n",
      "Epoch 21/400\n",
      "427/427 [==============================] - 6s 14ms/step - loss: 4.1425 - accuracy: 0.1785\n",
      "Epoch 22/400\n",
      "427/427 [==============================] - 6s 14ms/step - loss: 4.0806 - accuracy: 0.1841\n",
      "Epoch 23/400\n",
      "427/427 [==============================] - 6s 13ms/step - loss: 4.1038 - accuracy: 0.1825\n",
      "Epoch 24/400\n",
      "427/427 [==============================] - 5s 13ms/step - loss: 3.9804 - accuracy: 0.1919\n",
      "Epoch 25/400\n",
      "427/427 [==============================] - 6s 13ms/step - loss: 3.9385 - accuracy: 0.1948\n",
      "Epoch 26/400\n",
      "427/427 [==============================] - 6s 13ms/step - loss: 3.8715 - accuracy: 0.2003\n",
      "Epoch 27/400\n",
      "427/427 [==============================] - 6s 14ms/step - loss: 3.8247 - accuracy: 0.2054\n",
      "Epoch 28/400\n",
      "427/427 [==============================] - 6s 13ms/step - loss: 3.7623 - accuracy: 0.2131\n",
      "Epoch 29/400\n",
      "427/427 [==============================] - 6s 13ms/step - loss: 3.7379 - accuracy: 0.2171\n",
      "Epoch 30/400\n",
      "427/427 [==============================] - 5s 13ms/step - loss: 3.7077 - accuracy: 0.2198\n",
      "Epoch 31/400\n",
      "427/427 [==============================] - 6s 13ms/step - loss: 3.6456 - accuracy: 0.2260\n",
      "Epoch 32/400\n",
      "427/427 [==============================] - 6s 13ms/step - loss: 3.6236 - accuracy: 0.2300\n",
      "Epoch 33/400\n",
      "427/427 [==============================] - 6s 14ms/step - loss: 3.5623 - accuracy: 0.2414\n",
      "Epoch 34/400\n",
      "427/427 [==============================] - 5s 13ms/step - loss: 3.5268 - accuracy: 0.2410\n",
      "Epoch 35/400\n",
      "427/427 [==============================] - 6s 14ms/step - loss: 3.4834 - accuracy: 0.2497\n",
      "Epoch 36/400\n",
      "427/427 [==============================] - 6s 13ms/step - loss: 3.4542 - accuracy: 0.2545\n",
      "Epoch 37/400\n",
      "427/427 [==============================] - 6s 14ms/step - loss: 3.4142 - accuracy: 0.2586\n",
      "Epoch 38/400\n",
      "427/427 [==============================] - 6s 14ms/step - loss: 3.3814 - accuracy: 0.2608\n",
      "Epoch 39/400\n",
      "427/427 [==============================] - 6s 15ms/step - loss: 3.3665 - accuracy: 0.2640\n",
      "Epoch 40/400\n",
      "427/427 [==============================] - 6s 13ms/step - loss: 3.3250 - accuracy: 0.2731\n",
      "Epoch 41/400\n",
      "427/427 [==============================] - 6s 14ms/step - loss: 3.2942 - accuracy: 0.2769\n",
      "Epoch 42/400\n",
      "427/427 [==============================] - 6s 13ms/step - loss: 3.2686 - accuracy: 0.2807\n",
      "Epoch 43/400\n",
      "427/427 [==============================] - 6s 14ms/step - loss: 3.2390 - accuracy: 0.2817\n",
      "Epoch 44/400\n",
      "427/427 [==============================] - 6s 14ms/step - loss: 3.2187 - accuracy: 0.2840\n",
      "Epoch 45/400\n",
      "427/427 [==============================] - 6s 13ms/step - loss: 3.1764 - accuracy: 0.2931\n",
      "Epoch 46/400\n",
      "427/427 [==============================] - 6s 13ms/step - loss: 3.1686 - accuracy: 0.2965\n",
      "Epoch 47/400\n",
      "427/427 [==============================] - 6s 13ms/step - loss: 3.1284 - accuracy: 0.2993\n",
      "Epoch 48/400\n",
      "427/427 [==============================] - 6s 13ms/step - loss: 3.1040 - accuracy: 0.3051\n",
      "Epoch 49/400\n",
      "427/427 [==============================] - 6s 14ms/step - loss: 3.0741 - accuracy: 0.3081\n",
      "Epoch 50/400\n",
      "427/427 [==============================] - 6s 14ms/step - loss: 3.0554 - accuracy: 0.3134\n",
      "Epoch 51/400\n",
      "427/427 [==============================] - 5s 13ms/step - loss: 3.0334 - accuracy: 0.3177\n",
      "Epoch 52/400\n",
      "427/427 [==============================] - 6s 14ms/step - loss: 3.0056 - accuracy: 0.3229\n",
      "Epoch 53/400\n",
      "427/427 [==============================] - 6s 13ms/step - loss: 2.9841 - accuracy: 0.3253\n",
      "Epoch 54/400\n",
      "427/427 [==============================] - 6s 13ms/step - loss: 2.9494 - accuracy: 0.3324\n",
      "Epoch 55/400\n",
      "427/427 [==============================] - 7s 15ms/step - loss: 2.9409 - accuracy: 0.3303\n",
      "Epoch 56/400\n",
      "427/427 [==============================] - 6s 13ms/step - loss: 2.9130 - accuracy: 0.3403\n",
      "Epoch 57/400\n",
      "427/427 [==============================] - 6s 13ms/step - loss: 2.8853 - accuracy: 0.3425\n",
      "Epoch 58/400\n",
      "427/427 [==============================] - 6s 14ms/step - loss: 2.8806 - accuracy: 0.3408\n",
      "Epoch 59/400\n",
      "427/427 [==============================] - 6s 13ms/step - loss: 2.8591 - accuracy: 0.3502\n",
      "Epoch 60/400\n",
      "427/427 [==============================] - 6s 14ms/step - loss: 2.8234 - accuracy: 0.3552\n",
      "Epoch 61/400\n",
      "427/427 [==============================] - 7s 15ms/step - loss: 2.8109 - accuracy: 0.3515\n",
      "Epoch 62/400\n",
      "427/427 [==============================] - 6s 13ms/step - loss: 2.7790 - accuracy: 0.3556\n",
      "Epoch 63/400\n",
      "427/427 [==============================] - 6s 14ms/step - loss: 2.7614 - accuracy: 0.3621\n",
      "Epoch 64/400\n",
      "427/427 [==============================] - 6s 14ms/step - loss: 2.7759 - accuracy: 0.3624\n",
      "Epoch 65/400\n",
      "427/427 [==============================] - 6s 14ms/step - loss: 2.7618 - accuracy: 0.3625\n",
      "Epoch 66/400\n",
      "427/427 [==============================] - 7s 15ms/step - loss: 2.7252 - accuracy: 0.3695\n",
      "Epoch 67/400\n",
      "427/427 [==============================] - 6s 14ms/step - loss: 2.7003 - accuracy: 0.3754\n",
      "Epoch 68/400\n",
      "427/427 [==============================] - 6s 13ms/step - loss: 2.6728 - accuracy: 0.3771\n",
      "Epoch 69/400\n",
      "427/427 [==============================] - 6s 14ms/step - loss: 2.6557 - accuracy: 0.3805\n",
      "Epoch 70/400\n",
      "427/427 [==============================] - 6s 13ms/step - loss: 2.6330 - accuracy: 0.3839\n",
      "Epoch 71/400\n",
      "427/427 [==============================] - 6s 14ms/step - loss: 2.6281 - accuracy: 0.3878\n",
      "Epoch 72/400\n",
      "427/427 [==============================] - 6s 15ms/step - loss: 2.5754 - accuracy: 0.3947\n",
      "Epoch 73/400\n",
      "427/427 [==============================] - 6s 14ms/step - loss: 2.5710 - accuracy: 0.3977\n",
      "Epoch 74/400\n",
      "427/427 [==============================] - 6s 13ms/step - loss: 2.5602 - accuracy: 0.3962\n",
      "Epoch 75/400\n",
      "427/427 [==============================] - 5s 13ms/step - loss: 2.5362 - accuracy: 0.4057\n",
      "Epoch 76/400\n",
      "427/427 [==============================] - 6s 13ms/step - loss: 2.5152 - accuracy: 0.4060\n",
      "Epoch 77/400\n",
      "427/427 [==============================] - 6s 14ms/step - loss: 2.4960 - accuracy: 0.4092\n",
      "Epoch 78/400\n",
      "427/427 [==============================] - 6s 15ms/step - loss: 2.4867 - accuracy: 0.4095\n",
      "Epoch 79/400\n",
      "427/427 [==============================] - 6s 14ms/step - loss: 2.4781 - accuracy: 0.4134\n",
      "Epoch 80/400\n",
      "427/427 [==============================] - 6s 13ms/step - loss: 2.4365 - accuracy: 0.4230\n",
      "Epoch 81/400\n",
      "427/427 [==============================] - 6s 13ms/step - loss: 2.4264 - accuracy: 0.4287\n",
      "Epoch 82/400\n",
      "427/427 [==============================] - 6s 15ms/step - loss: 2.4174 - accuracy: 0.4237\n",
      "Epoch 83/400\n",
      "427/427 [==============================] - 6s 13ms/step - loss: 2.3996 - accuracy: 0.4283\n",
      "Epoch 84/400\n",
      "427/427 [==============================] - 6s 14ms/step - loss: 2.3840 - accuracy: 0.4306\n",
      "Epoch 85/400\n",
      "427/427 [==============================] - 6s 14ms/step - loss: 2.3481 - accuracy: 0.4382\n",
      "Epoch 86/400\n",
      "427/427 [==============================] - 6s 14ms/step - loss: 2.3471 - accuracy: 0.4382\n",
      "Epoch 87/400\n",
      "427/427 [==============================] - 6s 13ms/step - loss: 2.3258 - accuracy: 0.4431\n",
      "Epoch 88/400\n",
      "427/427 [==============================] - 6s 14ms/step - loss: 2.3005 - accuracy: 0.4495\n",
      "Epoch 89/400\n",
      "427/427 [==============================] - 6s 13ms/step - loss: 2.3040 - accuracy: 0.4487\n",
      "Epoch 90/400\n",
      "427/427 [==============================] - 6s 14ms/step - loss: 2.2708 - accuracy: 0.4542\n",
      "Epoch 91/400\n",
      "427/427 [==============================] - 6s 15ms/step - loss: 2.2454 - accuracy: 0.4604\n",
      "Epoch 92/400\n",
      "427/427 [==============================] - 6s 14ms/step - loss: 2.2417 - accuracy: 0.4603\n",
      "Epoch 93/400\n",
      "427/427 [==============================] - 6s 15ms/step - loss: 2.2259 - accuracy: 0.4659\n",
      "Epoch 94/400\n",
      "427/427 [==============================] - 6s 13ms/step - loss: 2.2060 - accuracy: 0.4682\n",
      "Epoch 95/400\n",
      "427/427 [==============================] - 6s 13ms/step - loss: 2.1944 - accuracy: 0.4714\n",
      "Epoch 96/400\n",
      "427/427 [==============================] - 6s 14ms/step - loss: 2.1681 - accuracy: 0.4724\n",
      "Epoch 97/400\n",
      "427/427 [==============================] - 6s 15ms/step - loss: 2.1618 - accuracy: 0.4766\n",
      "Epoch 98/400\n",
      "427/427 [==============================] - 6s 13ms/step - loss: 2.1328 - accuracy: 0.4840\n",
      "Epoch 99/400\n",
      "427/427 [==============================] - 6s 15ms/step - loss: 2.1333 - accuracy: 0.4799\n",
      "Epoch 100/400\n",
      "427/427 [==============================] - 6s 13ms/step - loss: 2.1127 - accuracy: 0.4866\n",
      "Epoch 101/400\n",
      "427/427 [==============================] - 6s 13ms/step - loss: 2.0908 - accuracy: 0.4932\n",
      "Epoch 102/400\n",
      "427/427 [==============================] - 6s 13ms/step - loss: 2.0704 - accuracy: 0.4955\n",
      "Epoch 103/400\n",
      "427/427 [==============================] - 7s 16ms/step - loss: 2.0438 - accuracy: 0.5034\n",
      "Epoch 104/400\n",
      "427/427 [==============================] - 6s 14ms/step - loss: 2.0372 - accuracy: 0.5022\n",
      "Epoch 105/400\n",
      "427/427 [==============================] - 6s 13ms/step - loss: 2.0303 - accuracy: 0.5037\n",
      "Epoch 106/400\n",
      "427/427 [==============================] - 6s 13ms/step - loss: 2.0068 - accuracy: 0.5087\n",
      "Epoch 107/400\n",
      "427/427 [==============================] - 6s 13ms/step - loss: 1.9900 - accuracy: 0.5124\n",
      "Epoch 108/400\n",
      "427/427 [==============================] - 6s 13ms/step - loss: 1.9581 - accuracy: 0.5185\n",
      "Epoch 109/400\n",
      "427/427 [==============================] - 6s 15ms/step - loss: 1.9548 - accuracy: 0.5182\n",
      "Epoch 110/400\n",
      "427/427 [==============================] - 7s 16ms/step - loss: 1.9416 - accuracy: 0.5245\n",
      "Epoch 111/400\n",
      "427/427 [==============================] - 6s 13ms/step - loss: 1.9168 - accuracy: 0.5267\n",
      "Epoch 112/400\n",
      "427/427 [==============================] - 6s 13ms/step - loss: 1.9095 - accuracy: 0.5287\n",
      "Epoch 113/400\n",
      "427/427 [==============================] - 6s 13ms/step - loss: 1.8855 - accuracy: 0.5336\n",
      "Epoch 114/400\n",
      "427/427 [==============================] - 6s 13ms/step - loss: 1.8690 - accuracy: 0.5382\n",
      "Epoch 115/400\n",
      "427/427 [==============================] - 6s 14ms/step - loss: 1.8584 - accuracy: 0.5397\n",
      "Epoch 116/400\n",
      "427/427 [==============================] - 6s 13ms/step - loss: 1.8524 - accuracy: 0.5399\n",
      "Epoch 117/400\n",
      "427/427 [==============================] - 6s 13ms/step - loss: 1.8211 - accuracy: 0.5484\n",
      "Epoch 118/400\n",
      "427/427 [==============================] - 6s 13ms/step - loss: 1.8167 - accuracy: 0.5512\n",
      "Epoch 119/400\n",
      "427/427 [==============================] - 6s 13ms/step - loss: 1.7882 - accuracy: 0.5555\n",
      "Epoch 120/400\n",
      "427/427 [==============================] - 6s 13ms/step - loss: 1.7919 - accuracy: 0.5557\n",
      "Epoch 121/400\n",
      "427/427 [==============================] - 8s 18ms/step - loss: 1.7754 - accuracy: 0.5590\n",
      "Epoch 122/400\n",
      "427/427 [==============================] - 6s 13ms/step - loss: 1.7530 - accuracy: 0.5631\n",
      "Epoch 123/400\n",
      "427/427 [==============================] - 6s 14ms/step - loss: 1.7345 - accuracy: 0.5684\n",
      "Epoch 124/400\n",
      "427/427 [==============================] - 6s 13ms/step - loss: 1.7124 - accuracy: 0.5743\n",
      "Epoch 125/400\n",
      "427/427 [==============================] - 6s 13ms/step - loss: 1.6859 - accuracy: 0.5791\n",
      "Epoch 126/400\n",
      "427/427 [==============================] - 6s 14ms/step - loss: 1.6837 - accuracy: 0.5769\n",
      "Epoch 127/400\n",
      "427/427 [==============================] - 6s 13ms/step - loss: 1.6703 - accuracy: 0.5811\n",
      "Epoch 128/400\n",
      "427/427 [==============================] - 6s 13ms/step - loss: 1.6469 - accuracy: 0.5881\n",
      "Epoch 129/400\n",
      "427/427 [==============================] - 6s 13ms/step - loss: 1.6326 - accuracy: 0.5913\n",
      "Epoch 130/400\n",
      "427/427 [==============================] - 6s 13ms/step - loss: 1.6174 - accuracy: 0.5936\n",
      "Epoch 131/400\n",
      "427/427 [==============================] - 6s 13ms/step - loss: 1.6091 - accuracy: 0.5980\n",
      "Epoch 132/400\n",
      "427/427 [==============================] - 6s 15ms/step - loss: 1.5943 - accuracy: 0.6027\n",
      "Epoch 133/400\n",
      "427/427 [==============================] - 7s 15ms/step - loss: 1.5707 - accuracy: 0.6054\n",
      "Epoch 134/400\n",
      "427/427 [==============================] - 6s 14ms/step - loss: 1.5418 - accuracy: 0.6114\n",
      "Epoch 135/400\n",
      "427/427 [==============================] - 6s 13ms/step - loss: 1.5288 - accuracy: 0.6153\n",
      "Epoch 136/400\n",
      "427/427 [==============================] - 6s 13ms/step - loss: 1.5208 - accuracy: 0.6170\n",
      "Epoch 137/400\n",
      "427/427 [==============================] - 6s 14ms/step - loss: 1.5113 - accuracy: 0.6219\n",
      "Epoch 138/400\n",
      "427/427 [==============================] - 6s 13ms/step - loss: 1.4931 - accuracy: 0.6235\n",
      "Epoch 139/400\n",
      "427/427 [==============================] - 5s 13ms/step - loss: 1.4860 - accuracy: 0.6236\n",
      "Epoch 140/400\n",
      "427/427 [==============================] - 6s 13ms/step - loss: 1.4650 - accuracy: 0.6290\n",
      "Epoch 141/400\n",
      "427/427 [==============================] - 5s 13ms/step - loss: 1.4403 - accuracy: 0.6355\n",
      "Epoch 142/400\n",
      "427/427 [==============================] - 6s 14ms/step - loss: 1.4183 - accuracy: 0.6426\n",
      "Epoch 143/400\n",
      "427/427 [==============================] - 6s 13ms/step - loss: 1.4200 - accuracy: 0.6397\n",
      "Epoch 144/400\n",
      "427/427 [==============================] - 6s 15ms/step - loss: 1.4077 - accuracy: 0.6452\n",
      "Epoch 145/400\n",
      "427/427 [==============================] - 7s 16ms/step - loss: 1.4000 - accuracy: 0.6478\n",
      "Epoch 146/400\n",
      "427/427 [==============================] - 6s 14ms/step - loss: 1.3722 - accuracy: 0.6526\n",
      "Epoch 147/400\n",
      "427/427 [==============================] - 6s 14ms/step - loss: 1.3614 - accuracy: 0.6563\n",
      "Epoch 148/400\n",
      "427/427 [==============================] - 6s 14ms/step - loss: 1.3489 - accuracy: 0.6571\n",
      "Epoch 149/400\n",
      "427/427 [==============================] - 6s 13ms/step - loss: 1.3398 - accuracy: 0.6596\n",
      "Epoch 150/400\n",
      "427/427 [==============================] - 6s 13ms/step - loss: 1.3305 - accuracy: 0.6597\n",
      "Epoch 151/400\n",
      "427/427 [==============================] - 6s 13ms/step - loss: 1.2993 - accuracy: 0.6692\n",
      "Epoch 152/400\n",
      "427/427 [==============================] - 6s 13ms/step - loss: 1.2934 - accuracy: 0.6701\n",
      "Epoch 153/400\n",
      "427/427 [==============================] - 6s 14ms/step - loss: 1.2778 - accuracy: 0.6742\n",
      "Epoch 154/400\n",
      "427/427 [==============================] - 6s 14ms/step - loss: 1.2480 - accuracy: 0.6858\n",
      "Epoch 155/400\n",
      "427/427 [==============================] - 6s 13ms/step - loss: 1.2198 - accuracy: 0.6891\n",
      "Epoch 156/400\n",
      "427/427 [==============================] - 6s 14ms/step - loss: 1.2185 - accuracy: 0.6899\n",
      "Epoch 157/400\n",
      "427/427 [==============================] - 7s 16ms/step - loss: 1.2127 - accuracy: 0.6918\n",
      "Epoch 158/400\n",
      "427/427 [==============================] - 6s 14ms/step - loss: 1.1911 - accuracy: 0.6964\n",
      "Epoch 159/400\n",
      "427/427 [==============================] - 6s 14ms/step - loss: 1.1841 - accuracy: 0.6963\n",
      "Epoch 160/400\n",
      "427/427 [==============================] - 6s 13ms/step - loss: 1.1725 - accuracy: 0.7027\n",
      "Epoch 161/400\n",
      "427/427 [==============================] - 6s 13ms/step - loss: 1.1792 - accuracy: 0.6974\n",
      "Epoch 162/400\n",
      "427/427 [==============================] - 6s 13ms/step - loss: 1.1526 - accuracy: 0.7043\n",
      "Epoch 163/400\n",
      "427/427 [==============================] - 6s 13ms/step - loss: 1.1364 - accuracy: 0.7094\n",
      "Epoch 164/400\n",
      "427/427 [==============================] - 6s 13ms/step - loss: 1.1102 - accuracy: 0.7167\n",
      "Epoch 165/400\n",
      "427/427 [==============================] - 6s 14ms/step - loss: 1.1096 - accuracy: 0.7144\n",
      "Epoch 166/400\n",
      "427/427 [==============================] - 6s 14ms/step - loss: 1.0984 - accuracy: 0.7205\n",
      "Epoch 167/400\n",
      "427/427 [==============================] - 6s 13ms/step - loss: 1.0895 - accuracy: 0.7241\n",
      "Epoch 168/400\n",
      "427/427 [==============================] - 6s 14ms/step - loss: 1.0625 - accuracy: 0.7273\n",
      "Epoch 169/400\n",
      "427/427 [==============================] - 7s 16ms/step - loss: 1.0501 - accuracy: 0.7296\n",
      "Epoch 170/400\n",
      "427/427 [==============================] - 7s 16ms/step - loss: 1.0430 - accuracy: 0.7336\n",
      "Epoch 171/400\n",
      "427/427 [==============================] - 6s 13ms/step - loss: 1.0101 - accuracy: 0.7443\n",
      "Epoch 172/400\n",
      "427/427 [==============================] - 6s 13ms/step - loss: 1.0301 - accuracy: 0.7365\n",
      "Epoch 173/400\n",
      "427/427 [==============================] - 6s 13ms/step - loss: 0.9999 - accuracy: 0.7456\n",
      "Epoch 174/400\n",
      "427/427 [==============================] - 6s 14ms/step - loss: 0.9826 - accuracy: 0.7474\n",
      "Epoch 175/400\n",
      "427/427 [==============================] - 6s 13ms/step - loss: 0.9733 - accuracy: 0.7510\n",
      "Epoch 176/400\n",
      "427/427 [==============================] - 6s 14ms/step - loss: 0.9905 - accuracy: 0.7463\n",
      "Epoch 177/400\n",
      "427/427 [==============================] - 6s 13ms/step - loss: 0.9620 - accuracy: 0.7547\n",
      "Epoch 178/400\n",
      "427/427 [==============================] - 6s 13ms/step - loss: 0.9384 - accuracy: 0.7582\n",
      "Epoch 179/400\n",
      "427/427 [==============================] - 6s 13ms/step - loss: 0.9366 - accuracy: 0.7595\n",
      "Epoch 180/400\n",
      "427/427 [==============================] - 6s 13ms/step - loss: 0.9328 - accuracy: 0.7628\n",
      "Epoch 181/400\n",
      "427/427 [==============================] - 7s 16ms/step - loss: 0.9098 - accuracy: 0.7665\n",
      "Epoch 182/400\n",
      "427/427 [==============================] - 7s 16ms/step - loss: 0.8964 - accuracy: 0.7706\n",
      "Epoch 183/400\n",
      "427/427 [==============================] - 6s 13ms/step - loss: 0.8735 - accuracy: 0.7751\n",
      "Epoch 184/400\n",
      "427/427 [==============================] - 6s 13ms/step - loss: 0.8698 - accuracy: 0.7756\n",
      "Epoch 185/400\n",
      "427/427 [==============================] - 6s 13ms/step - loss: 0.8613 - accuracy: 0.7814\n",
      "Epoch 186/400\n",
      "427/427 [==============================] - 6s 13ms/step - loss: 0.8369 - accuracy: 0.7844\n",
      "Epoch 187/400\n",
      "427/427 [==============================] - 6s 14ms/step - loss: 0.8233 - accuracy: 0.7880\n",
      "Epoch 188/400\n",
      "427/427 [==============================] - 6s 13ms/step - loss: 0.8080 - accuracy: 0.7961\n",
      "Epoch 189/400\n",
      "427/427 [==============================] - 6s 13ms/step - loss: 0.8560 - accuracy: 0.7776\n",
      "Epoch 190/400\n",
      "427/427 [==============================] - 6s 13ms/step - loss: 0.8202 - accuracy: 0.7883\n",
      "Epoch 191/400\n",
      "427/427 [==============================] - 6s 14ms/step - loss: 0.7938 - accuracy: 0.7979\n",
      "Epoch 192/400\n",
      "427/427 [==============================] - 6s 13ms/step - loss: 0.7790 - accuracy: 0.8013\n",
      "Epoch 193/400\n",
      "427/427 [==============================] - 7s 15ms/step - loss: 0.7530 - accuracy: 0.8101\n",
      "Epoch 194/400\n",
      "427/427 [==============================] - 7s 16ms/step - loss: 0.7414 - accuracy: 0.8103\n",
      "Epoch 195/400\n",
      "427/427 [==============================] - 6s 14ms/step - loss: 0.7538 - accuracy: 0.8065\n",
      "Epoch 196/400\n",
      "427/427 [==============================] - 6s 13ms/step - loss: 0.7366 - accuracy: 0.8123\n",
      "Epoch 197/400\n",
      "427/427 [==============================] - 6s 13ms/step - loss: 0.7519 - accuracy: 0.8077\n",
      "Epoch 198/400\n",
      "427/427 [==============================] - 6s 15ms/step - loss: 0.7044 - accuracy: 0.8192\n",
      "Epoch 199/400\n",
      "427/427 [==============================] - 6s 13ms/step - loss: 0.7071 - accuracy: 0.8200\n",
      "Epoch 200/400\n",
      "427/427 [==============================] - 6s 13ms/step - loss: 0.6961 - accuracy: 0.8226\n",
      "Epoch 201/400\n",
      "427/427 [==============================] - 5s 13ms/step - loss: 0.6708 - accuracy: 0.8329\n",
      "Epoch 202/400\n",
      "427/427 [==============================] - 6s 14ms/step - loss: 0.6922 - accuracy: 0.8232\n",
      "Epoch 203/400\n",
      "427/427 [==============================] - 6s 13ms/step - loss: 0.6729 - accuracy: 0.8272\n",
      "Epoch 204/400\n",
      "427/427 [==============================] - 6s 15ms/step - loss: 0.6720 - accuracy: 0.8295\n",
      "Epoch 205/400\n",
      "427/427 [==============================] - 6s 14ms/step - loss: 0.6565 - accuracy: 0.8320\n",
      "Epoch 206/400\n",
      "427/427 [==============================] - 7s 16ms/step - loss: 0.6485 - accuracy: 0.8336\n",
      "Epoch 207/400\n",
      "427/427 [==============================] - 7s 16ms/step - loss: 0.6340 - accuracy: 0.8392\n",
      "Epoch 208/400\n",
      "427/427 [==============================] - 6s 13ms/step - loss: 0.6375 - accuracy: 0.8394\n",
      "Epoch 209/400\n",
      "427/427 [==============================] - 6s 14ms/step - loss: 0.6278 - accuracy: 0.8371\n",
      "Epoch 210/400\n",
      "427/427 [==============================] - 6s 13ms/step - loss: 0.6135 - accuracy: 0.8438\n",
      "Epoch 211/400\n",
      "427/427 [==============================] - 6s 13ms/step - loss: 0.6200 - accuracy: 0.8412\n",
      "Epoch 212/400\n",
      "427/427 [==============================] - 6s 13ms/step - loss: 0.5891 - accuracy: 0.8523\n",
      "Epoch 213/400\n",
      "427/427 [==============================] - 6s 13ms/step - loss: 0.5897 - accuracy: 0.8495\n",
      "Epoch 214/400\n",
      "427/427 [==============================] - 6s 13ms/step - loss: 0.5842 - accuracy: 0.8527\n",
      "Epoch 215/400\n",
      "427/427 [==============================] - 6s 15ms/step - loss: 0.5696 - accuracy: 0.8549\n",
      "Epoch 216/400\n",
      "427/427 [==============================] - 5s 13ms/step - loss: 0.5576 - accuracy: 0.8584\n",
      "Epoch 217/400\n",
      "427/427 [==============================] - 6s 13ms/step - loss: 0.5771 - accuracy: 0.8517\n",
      "Epoch 218/400\n",
      "427/427 [==============================] - 6s 14ms/step - loss: 0.5389 - accuracy: 0.8636\n",
      "Epoch 219/400\n",
      "427/427 [==============================] - 7s 16ms/step - loss: 0.5333 - accuracy: 0.8648\n",
      "Epoch 220/400\n",
      "427/427 [==============================] - 7s 16ms/step - loss: 0.5418 - accuracy: 0.8648\n",
      "Epoch 221/400\n",
      "427/427 [==============================] - 5s 13ms/step - loss: 0.5454 - accuracy: 0.8607\n",
      "Epoch 222/400\n",
      "427/427 [==============================] - 6s 13ms/step - loss: 0.4938 - accuracy: 0.8779\n",
      "Epoch 223/400\n",
      "427/427 [==============================] - 5s 13ms/step - loss: 0.5023 - accuracy: 0.8708\n",
      "Epoch 224/400\n",
      "427/427 [==============================] - 6s 13ms/step - loss: 0.5106 - accuracy: 0.8704\n",
      "Epoch 225/400\n",
      "427/427 [==============================] - 6s 13ms/step - loss: 0.5152 - accuracy: 0.8680\n",
      "Epoch 226/400\n",
      "427/427 [==============================] - 6s 14ms/step - loss: 0.5225 - accuracy: 0.8644\n",
      "Epoch 227/400\n",
      "427/427 [==============================] - 6s 13ms/step - loss: 0.4647 - accuracy: 0.8844\n",
      "Epoch 228/400\n",
      "427/427 [==============================] - 6s 13ms/step - loss: 0.4543 - accuracy: 0.8892\n",
      "Epoch 229/400\n",
      "427/427 [==============================] - 5s 13ms/step - loss: 0.4611 - accuracy: 0.8835\n",
      "Epoch 230/400\n",
      "427/427 [==============================] - 6s 13ms/step - loss: 0.4883 - accuracy: 0.8775\n",
      "Epoch 231/400\n",
      "427/427 [==============================] - 5s 13ms/step - loss: 0.4860 - accuracy: 0.8746\n",
      "Epoch 232/400\n",
      "427/427 [==============================] - 6s 14ms/step - loss: 0.4708 - accuracy: 0.8813\n",
      "Epoch 233/400\n",
      "427/427 [==============================] - 5s 13ms/step - loss: 0.4437 - accuracy: 0.8902\n",
      "Epoch 234/400\n",
      "427/427 [==============================] - 6s 13ms/step - loss: 0.4349 - accuracy: 0.8918\n",
      "Epoch 235/400\n",
      "427/427 [==============================] - 5s 13ms/step - loss: 0.4235 - accuracy: 0.8935\n",
      "Epoch 236/400\n",
      "427/427 [==============================] - 6s 13ms/step - loss: 0.4265 - accuracy: 0.8928\n",
      "Epoch 237/400\n",
      "427/427 [==============================] - 5s 13ms/step - loss: 0.4416 - accuracy: 0.8857\n",
      "Epoch 238/400\n",
      "427/427 [==============================] - 6s 14ms/step - loss: 0.4240 - accuracy: 0.8929\n",
      "Epoch 239/400\n",
      "427/427 [==============================] - 5s 13ms/step - loss: 0.4131 - accuracy: 0.8989\n",
      "Epoch 240/400\n",
      "427/427 [==============================] - 6s 13ms/step - loss: 0.3960 - accuracy: 0.9033\n",
      "Epoch 241/400\n",
      "427/427 [==============================] - 5s 13ms/step - loss: 0.4165 - accuracy: 0.8939\n",
      "Epoch 242/400\n",
      "427/427 [==============================] - 7s 15ms/step - loss: 0.3907 - accuracy: 0.9027\n",
      "Epoch 243/400\n",
      "427/427 [==============================] - 7s 17ms/step - loss: 0.4010 - accuracy: 0.8996\n",
      "Epoch 244/400\n",
      "427/427 [==============================] - 6s 14ms/step - loss: 0.3763 - accuracy: 0.9051\n",
      "Epoch 245/400\n",
      "427/427 [==============================] - 6s 13ms/step - loss: 0.4305 - accuracy: 0.8880\n",
      "Epoch 246/400\n",
      "427/427 [==============================] - 5s 13ms/step - loss: 0.3735 - accuracy: 0.9054\n",
      "Epoch 247/400\n",
      "427/427 [==============================] - 6s 13ms/step - loss: 0.3542 - accuracy: 0.9118\n",
      "Epoch 248/400\n",
      "427/427 [==============================] - 6s 13ms/step - loss: 0.3780 - accuracy: 0.9045\n",
      "Epoch 249/400\n",
      "427/427 [==============================] - 6s 14ms/step - loss: 0.3622 - accuracy: 0.9085\n",
      "Epoch 250/400\n",
      "427/427 [==============================] - 6s 13ms/step - loss: 0.3497 - accuracy: 0.9123\n",
      "Epoch 251/400\n",
      "427/427 [==============================] - 6s 14ms/step - loss: 0.3437 - accuracy: 0.9155\n",
      "Epoch 252/400\n",
      "427/427 [==============================] - 6s 13ms/step - loss: 0.3193 - accuracy: 0.9250\n",
      "Epoch 253/400\n",
      "427/427 [==============================] - 6s 13ms/step - loss: 0.3569 - accuracy: 0.9099\n",
      "Epoch 254/400\n",
      "427/427 [==============================] - 5s 13ms/step - loss: 0.3536 - accuracy: 0.9100\n",
      "Epoch 255/400\n",
      "427/427 [==============================] - 6s 14ms/step - loss: 0.3611 - accuracy: 0.9081\n",
      "Epoch 256/400\n",
      "427/427 [==============================] - 6s 13ms/step - loss: 0.3446 - accuracy: 0.9133\n",
      "Epoch 257/400\n",
      "427/427 [==============================] - 6s 13ms/step - loss: 0.3189 - accuracy: 0.9211\n",
      "Epoch 258/400\n",
      "427/427 [==============================] - 6s 13ms/step - loss: 0.3430 - accuracy: 0.9124\n",
      "Epoch 259/400\n",
      "427/427 [==============================] - 5s 13ms/step - loss: 0.3394 - accuracy: 0.9117\n",
      "Epoch 260/400\n",
      "427/427 [==============================] - 6s 14ms/step - loss: 0.3254 - accuracy: 0.9181\n",
      "Epoch 261/400\n",
      "427/427 [==============================] - 6s 13ms/step - loss: 0.3156 - accuracy: 0.9198\n",
      "Epoch 262/400\n",
      "427/427 [==============================] - 6s 13ms/step - loss: 0.2858 - accuracy: 0.9313\n",
      "Epoch 263/400\n",
      "427/427 [==============================] - 6s 13ms/step - loss: 0.2708 - accuracy: 0.9358\n",
      "Epoch 264/400\n",
      "427/427 [==============================] - 6s 14ms/step - loss: 0.2966 - accuracy: 0.9253\n",
      "Epoch 265/400\n",
      "427/427 [==============================] - 6s 13ms/step - loss: 0.3091 - accuracy: 0.9211\n",
      "Epoch 266/400\n",
      "427/427 [==============================] - 7s 16ms/step - loss: 0.3032 - accuracy: 0.9240\n",
      "Epoch 267/400\n",
      "427/427 [==============================] - 6s 15ms/step - loss: 0.3189 - accuracy: 0.9174\n",
      "Epoch 268/400\n",
      "427/427 [==============================] - 6s 15ms/step - loss: 0.2937 - accuracy: 0.9247\n",
      "Epoch 269/400\n",
      "427/427 [==============================] - 5s 13ms/step - loss: 0.2730 - accuracy: 0.9334\n",
      "Epoch 270/400\n",
      "427/427 [==============================] - 6s 13ms/step - loss: 0.3017 - accuracy: 0.9216\n",
      "Epoch 271/400\n",
      "427/427 [==============================] - 5s 13ms/step - loss: 0.2953 - accuracy: 0.9263\n",
      "Epoch 272/400\n",
      "427/427 [==============================] - 6s 14ms/step - loss: 0.2941 - accuracy: 0.9253\n",
      "Epoch 273/400\n",
      "427/427 [==============================] - 6s 13ms/step - loss: 0.2562 - accuracy: 0.9385\n",
      "Epoch 274/400\n",
      "427/427 [==============================] - 6s 13ms/step - loss: 0.2431 - accuracy: 0.9428\n",
      "Epoch 275/400\n",
      "427/427 [==============================] - 6s 13ms/step - loss: 0.2473 - accuracy: 0.9393\n",
      "Epoch 276/400\n",
      "427/427 [==============================] - 6s 13ms/step - loss: 0.2842 - accuracy: 0.9257\n",
      "Epoch 277/400\n",
      "427/427 [==============================] - 6s 13ms/step - loss: 0.2784 - accuracy: 0.9278\n",
      "Epoch 278/400\n",
      "427/427 [==============================] - 6s 13ms/step - loss: 0.2530 - accuracy: 0.9352\n",
      "Epoch 279/400\n",
      "427/427 [==============================] - 6s 13ms/step - loss: 0.2535 - accuracy: 0.9362\n",
      "Epoch 280/400\n",
      "427/427 [==============================] - 6s 13ms/step - loss: 0.2253 - accuracy: 0.9472\n",
      "Epoch 281/400\n",
      "427/427 [==============================] - 6s 13ms/step - loss: 0.2519 - accuracy: 0.9365\n",
      "Epoch 282/400\n",
      "427/427 [==============================] - 5s 13ms/step - loss: 0.2865 - accuracy: 0.9239\n",
      "Epoch 283/400\n",
      "427/427 [==============================] - 6s 14ms/step - loss: 0.2596 - accuracy: 0.9338\n",
      "Epoch 284/400\n",
      "427/427 [==============================] - 6s 13ms/step - loss: 0.2474 - accuracy: 0.9371\n",
      "Epoch 285/400\n",
      "427/427 [==============================] - 6s 13ms/step - loss: 0.2323 - accuracy: 0.9431\n",
      "Epoch 286/400\n",
      "427/427 [==============================] - 5s 13ms/step - loss: 0.2712 - accuracy: 0.9319\n",
      "Epoch 287/400\n",
      "427/427 [==============================] - 6s 13ms/step - loss: 0.2570 - accuracy: 0.9346\n",
      "Epoch 288/400\n",
      "427/427 [==============================] - 5s 13ms/step - loss: 0.2131 - accuracy: 0.9494\n",
      "Epoch 289/400\n",
      "427/427 [==============================] - 6s 15ms/step - loss: 0.2335 - accuracy: 0.9403\n",
      "Epoch 290/400\n",
      "427/427 [==============================] - 7s 15ms/step - loss: 0.2149 - accuracy: 0.9469\n",
      "Epoch 291/400\n",
      "427/427 [==============================] - 7s 16ms/step - loss: 0.1921 - accuracy: 0.9533\n",
      "Epoch 292/400\n",
      "427/427 [==============================] - 6s 15ms/step - loss: 0.2092 - accuracy: 0.9484\n",
      "Epoch 293/400\n",
      "427/427 [==============================] - 6s 13ms/step - loss: 0.2645 - accuracy: 0.9299\n",
      "Epoch 294/400\n",
      "427/427 [==============================] - 6s 13ms/step - loss: 0.2773 - accuracy: 0.9261\n",
      "Epoch 295/400\n",
      "427/427 [==============================] - 6s 14ms/step - loss: 0.2454 - accuracy: 0.9364\n",
      "Epoch 296/400\n",
      "427/427 [==============================] - 6s 13ms/step - loss: 0.1998 - accuracy: 0.9525\n",
      "Epoch 297/400\n",
      "427/427 [==============================] - 5s 13ms/step - loss: 0.1835 - accuracy: 0.9582\n",
      "Epoch 298/400\n",
      "427/427 [==============================] - 6s 13ms/step - loss: 0.2375 - accuracy: 0.9387\n",
      "Epoch 299/400\n",
      "427/427 [==============================] - 5s 13ms/step - loss: 0.2293 - accuracy: 0.9393\n",
      "Epoch 300/400\n",
      "427/427 [==============================] - 6s 13ms/step - loss: 0.1950 - accuracy: 0.9523\n",
      "Epoch 301/400\n",
      "427/427 [==============================] - 6s 13ms/step - loss: 0.1851 - accuracy: 0.9557\n",
      "Epoch 302/400\n",
      "427/427 [==============================] - 6s 13ms/step - loss: 0.1927 - accuracy: 0.9535\n",
      "Epoch 303/400\n",
      "427/427 [==============================] - 5s 13ms/step - loss: 0.2178 - accuracy: 0.9420\n",
      "Epoch 304/400\n",
      "427/427 [==============================] - 6s 13ms/step - loss: 0.2230 - accuracy: 0.9405\n",
      "Epoch 305/400\n",
      "427/427 [==============================] - 6s 13ms/step - loss: 0.2052 - accuracy: 0.9476\n",
      "Epoch 306/400\n",
      "427/427 [==============================] - 6s 14ms/step - loss: 0.2037 - accuracy: 0.9482\n",
      "Epoch 307/400\n",
      "427/427 [==============================] - 5s 13ms/step - loss: 0.2589 - accuracy: 0.9284\n",
      "Epoch 308/400\n",
      "427/427 [==============================] - 6s 13ms/step - loss: 0.2237 - accuracy: 0.9421\n",
      "Epoch 309/400\n",
      "427/427 [==============================] - 5s 13ms/step - loss: 0.1633 - accuracy: 0.9622\n",
      "Epoch 310/400\n",
      "427/427 [==============================] - 6s 13ms/step - loss: 0.1477 - accuracy: 0.9676\n",
      "Epoch 311/400\n",
      "427/427 [==============================] - 5s 13ms/step - loss: 0.1514 - accuracy: 0.9656\n",
      "Epoch 312/400\n",
      "427/427 [==============================] - 6s 14ms/step - loss: 0.1608 - accuracy: 0.9627\n",
      "Epoch 313/400\n",
      "427/427 [==============================] - 5s 13ms/step - loss: 0.2782 - accuracy: 0.9222\n",
      "Epoch 314/400\n",
      "427/427 [==============================] - 6s 15ms/step - loss: 0.2707 - accuracy: 0.9254\n",
      "Epoch 315/400\n",
      "427/427 [==============================] - 6s 15ms/step - loss: 0.2070 - accuracy: 0.9465\n",
      "Epoch 316/400\n",
      "427/427 [==============================] - 7s 16ms/step - loss: 0.1491 - accuracy: 0.9658\n",
      "Epoch 317/400\n",
      "427/427 [==============================] - 7s 16ms/step - loss: 0.1364 - accuracy: 0.9708\n",
      "Epoch 318/400\n",
      "427/427 [==============================] - 6s 13ms/step - loss: 0.1462 - accuracy: 0.9660\n",
      "Epoch 319/400\n",
      "427/427 [==============================] - 6s 13ms/step - loss: 0.1867 - accuracy: 0.9510\n",
      "Epoch 320/400\n",
      "427/427 [==============================] - 5s 13ms/step - loss: 0.2094 - accuracy: 0.9460\n",
      "Epoch 321/400\n",
      "427/427 [==============================] - 6s 13ms/step - loss: 0.2251 - accuracy: 0.9399\n",
      "Epoch 322/400\n",
      "427/427 [==============================] - 5s 13ms/step - loss: 0.1795 - accuracy: 0.9539\n",
      "Epoch 323/400\n",
      "427/427 [==============================] - 6s 13ms/step - loss: 0.1970 - accuracy: 0.9465\n",
      "Epoch 324/400\n",
      "427/427 [==============================] - 7s 17ms/step - loss: 0.1816 - accuracy: 0.9533\n",
      "Epoch 325/400\n",
      "427/427 [==============================] - 6s 13ms/step - loss: 0.1744 - accuracy: 0.9543\n",
      "Epoch 326/400\n",
      "427/427 [==============================] - 6s 13ms/step - loss: 0.1728 - accuracy: 0.9550\n",
      "Epoch 327/400\n",
      "427/427 [==============================] - 6s 13ms/step - loss: 0.1364 - accuracy: 0.9674\n",
      "Epoch 328/400\n",
      "427/427 [==============================] - 5s 13ms/step - loss: 0.1331 - accuracy: 0.9702\n",
      "Epoch 329/400\n",
      "427/427 [==============================] - 6s 14ms/step - loss: 0.1625 - accuracy: 0.9592\n",
      "Epoch 330/400\n",
      "427/427 [==============================] - 6s 13ms/step - loss: 0.2342 - accuracy: 0.9333\n",
      "Epoch 331/400\n",
      "427/427 [==============================] - 6s 13ms/step - loss: 0.1984 - accuracy: 0.9459\n",
      "Epoch 332/400\n",
      "427/427 [==============================] - 5s 13ms/step - loss: 0.1688 - accuracy: 0.9556\n",
      "Epoch 333/400\n",
      "427/427 [==============================] - 6s 13ms/step - loss: 0.1217 - accuracy: 0.9729\n",
      "Epoch 334/400\n",
      "427/427 [==============================] - 5s 13ms/step - loss: 0.1024 - accuracy: 0.9796\n",
      "Epoch 335/400\n",
      "427/427 [==============================] - 6s 14ms/step - loss: 0.1121 - accuracy: 0.9751\n",
      "Epoch 336/400\n",
      "427/427 [==============================] - 5s 13ms/step - loss: 0.1905 - accuracy: 0.9483\n",
      "Epoch 337/400\n",
      "427/427 [==============================] - 6s 13ms/step - loss: 0.3521 - accuracy: 0.8961\n",
      "Epoch 338/400\n",
      "427/427 [==============================] - 6s 14ms/step - loss: 0.2185 - accuracy: 0.9384\n",
      "Epoch 339/400\n",
      "427/427 [==============================] - 7s 16ms/step - loss: 0.1515 - accuracy: 0.9624\n",
      "Epoch 340/400\n",
      "427/427 [==============================] - 7s 16ms/step - loss: 0.1102 - accuracy: 0.9757\n",
      "Epoch 341/400\n",
      "427/427 [==============================] - 7s 16ms/step - loss: 0.0822 - accuracy: 0.9845\n",
      "Epoch 342/400\n",
      "427/427 [==============================] - 6s 14ms/step - loss: 0.1054 - accuracy: 0.9771\n",
      "Epoch 343/400\n",
      "427/427 [==============================] - 5s 13ms/step - loss: 0.2358 - accuracy: 0.9342\n",
      "Epoch 344/400\n",
      "427/427 [==============================] - 6s 13ms/step - loss: 0.2555 - accuracy: 0.9277\n",
      "Epoch 345/400\n",
      "427/427 [==============================] - 5s 13ms/step - loss: 0.1740 - accuracy: 0.9527\n",
      "Epoch 346/400\n",
      "427/427 [==============================] - 6s 14ms/step - loss: 0.1441 - accuracy: 0.9620\n",
      "Epoch 347/400\n",
      "427/427 [==============================] - 5s 13ms/step - loss: 0.1060 - accuracy: 0.9767\n",
      "Epoch 348/400\n",
      "427/427 [==============================] - 6s 13ms/step - loss: 0.1002 - accuracy: 0.9782\n",
      "Epoch 349/400\n",
      "427/427 [==============================] - 5s 13ms/step - loss: 0.0935 - accuracy: 0.9809\n",
      "Epoch 350/400\n",
      "427/427 [==============================] - 6s 13ms/step - loss: 0.1587 - accuracy: 0.9583\n",
      "Epoch 351/400\n",
      "427/427 [==============================] - 6s 13ms/step - loss: 0.2220 - accuracy: 0.9365\n",
      "Epoch 352/400\n",
      "427/427 [==============================] - 6s 14ms/step - loss: 0.2528 - accuracy: 0.9269\n",
      "Epoch 353/400\n",
      "427/427 [==============================] - 5s 13ms/step - loss: 0.1785 - accuracy: 0.9517\n",
      "Epoch 354/400\n",
      "427/427 [==============================] - 6s 13ms/step - loss: 0.1138 - accuracy: 0.9742\n",
      "Epoch 355/400\n",
      "427/427 [==============================] - 5s 13ms/step - loss: 0.0943 - accuracy: 0.9794\n",
      "Epoch 356/400\n",
      "427/427 [==============================] - 6s 13ms/step - loss: 0.1319 - accuracy: 0.9677\n",
      "Epoch 357/400\n",
      "427/427 [==============================] - 5s 13ms/step - loss: 0.1461 - accuracy: 0.9606\n",
      "Epoch 358/400\n",
      "427/427 [==============================] - 6s 14ms/step - loss: 0.1610 - accuracy: 0.9576\n",
      "Epoch 359/400\n",
      "427/427 [==============================] - 6s 14ms/step - loss: 0.1852 - accuracy: 0.9498\n",
      "Epoch 360/400\n",
      "427/427 [==============================] - 6s 13ms/step - loss: 0.1499 - accuracy: 0.9593\n",
      "Epoch 361/400\n",
      "427/427 [==============================] - 6s 13ms/step - loss: 0.1378 - accuracy: 0.9652\n",
      "Epoch 362/400\n",
      "427/427 [==============================] - 5s 13ms/step - loss: 0.1423 - accuracy: 0.9637\n",
      "Epoch 363/400\n",
      "427/427 [==============================] - 6s 15ms/step - loss: 0.1385 - accuracy: 0.9636\n",
      "Epoch 364/400\n",
      "427/427 [==============================] - 7s 16ms/step - loss: 0.1166 - accuracy: 0.9722\n",
      "Epoch 365/400\n",
      "427/427 [==============================] - 7s 16ms/step - loss: 0.1308 - accuracy: 0.9674\n",
      "Epoch 366/400\n",
      "427/427 [==============================] - 6s 15ms/step - loss: 0.2079 - accuracy: 0.9413\n",
      "Epoch 367/400\n",
      "427/427 [==============================] - 6s 14ms/step - loss: 0.1694 - accuracy: 0.9539\n",
      "Epoch 368/400\n",
      "427/427 [==============================] - 6s 13ms/step - loss: 0.1396 - accuracy: 0.9637\n",
      "Epoch 369/400\n",
      "427/427 [==============================] - 6s 14ms/step - loss: 0.1387 - accuracy: 0.9631\n",
      "Epoch 370/400\n",
      "427/427 [==============================] - 5s 13ms/step - loss: 0.1009 - accuracy: 0.9760\n",
      "Epoch 371/400\n",
      "427/427 [==============================] - 6s 13ms/step - loss: 0.0946 - accuracy: 0.9777\n",
      "Epoch 372/400\n",
      "427/427 [==============================] - 6s 13ms/step - loss: 0.0967 - accuracy: 0.9775\n",
      "Epoch 373/400\n",
      "427/427 [==============================] - 6s 13ms/step - loss: 0.1866 - accuracy: 0.9484\n",
      "Epoch 374/400\n",
      "427/427 [==============================] - 6s 14ms/step - loss: 0.2082 - accuracy: 0.9424\n",
      "Epoch 375/400\n",
      "427/427 [==============================] - 5s 13ms/step - loss: 0.1844 - accuracy: 0.9497\n",
      "Epoch 376/400\n",
      "427/427 [==============================] - 6s 13ms/step - loss: 0.1247 - accuracy: 0.9665\n",
      "Epoch 377/400\n",
      "427/427 [==============================] - 5s 13ms/step - loss: 0.0916 - accuracy: 0.9787\n",
      "Epoch 378/400\n",
      "427/427 [==============================] - 6s 13ms/step - loss: 0.0982 - accuracy: 0.9773\n",
      "Epoch 379/400\n",
      "427/427 [==============================] - 5s 13ms/step - loss: 0.1421 - accuracy: 0.9630\n",
      "Epoch 380/400\n",
      "427/427 [==============================] - 6s 14ms/step - loss: 0.1773 - accuracy: 0.9499\n",
      "Epoch 381/400\n",
      "427/427 [==============================] - 5s 13ms/step - loss: 0.1595 - accuracy: 0.9548\n",
      "Epoch 382/400\n",
      "427/427 [==============================] - 6s 13ms/step - loss: 0.1380 - accuracy: 0.9625\n",
      "Epoch 383/400\n",
      "427/427 [==============================] - 5s 13ms/step - loss: 0.0963 - accuracy: 0.9759\n",
      "Epoch 384/400\n",
      "427/427 [==============================] - 6s 13ms/step - loss: 0.0851 - accuracy: 0.9801\n",
      "Epoch 385/400\n",
      "427/427 [==============================] - 5s 13ms/step - loss: 0.1159 - accuracy: 0.9689\n",
      "Epoch 386/400\n",
      "427/427 [==============================] - 6s 14ms/step - loss: 0.1846 - accuracy: 0.9477\n",
      "Epoch 387/400\n",
      "427/427 [==============================] - 5s 13ms/step - loss: 0.1566 - accuracy: 0.9550\n",
      "Epoch 388/400\n",
      "427/427 [==============================] - 6s 14ms/step - loss: 0.1556 - accuracy: 0.9573\n",
      "Epoch 389/400\n",
      "427/427 [==============================] - 6s 15ms/step - loss: 0.1187 - accuracy: 0.9693\n",
      "Epoch 390/400\n",
      "427/427 [==============================] - 7s 15ms/step - loss: 0.0980 - accuracy: 0.9767\n",
      "Epoch 391/400\n",
      "427/427 [==============================] - 7s 17ms/step - loss: 0.0777 - accuracy: 0.9823\n",
      "Epoch 392/400\n",
      "427/427 [==============================] - 6s 15ms/step - loss: 0.1269 - accuracy: 0.9669\n",
      "Epoch 393/400\n",
      "427/427 [==============================] - 6s 13ms/step - loss: 0.2012 - accuracy: 0.9420\n",
      "Epoch 394/400\n",
      "427/427 [==============================] - 5s 13ms/step - loss: 0.1400 - accuracy: 0.9600\n",
      "Epoch 395/400\n",
      "427/427 [==============================] - 6s 13ms/step - loss: 0.0936 - accuracy: 0.9768\n",
      "Epoch 396/400\n",
      "427/427 [==============================] - 5s 13ms/step - loss: 0.1060 - accuracy: 0.9729\n",
      "Epoch 397/400\n",
      "427/427 [==============================] - 6s 14ms/step - loss: 0.1267 - accuracy: 0.9659\n",
      "Epoch 398/400\n",
      "427/427 [==============================] - 5s 13ms/step - loss: 0.1305 - accuracy: 0.9634\n",
      "Epoch 399/400\n",
      "427/427 [==============================] - 6s 13ms/step - loss: 0.1456 - accuracy: 0.9620\n",
      "Epoch 400/400\n",
      "427/427 [==============================] - 6s 13ms/step - loss: 0.1509 - accuracy: 0.9569\n"
     ]
    },
    {
     "data": {
      "text/plain": [
       "<tensorflow.python.keras.callbacks.History at 0x7f42f87362d0>"
      ]
     },
     "execution_count": 39,
     "metadata": {},
     "output_type": "execute_result"
    }
   ],
   "source": [
    "# fit model\n",
    "model.fit(X, y, batch_size=128, epochs=400,verbose=1)"
   ]
  },
  {
   "cell_type": "code",
   "execution_count": 40,
   "metadata": {
    "execution": {
     "iopub.execute_input": "2021-01-27T06:50:38.764847Z",
     "iopub.status.busy": "2021-01-27T06:50:38.761743Z",
     "iopub.status.idle": "2021-01-27T06:50:38.830483Z",
     "shell.execute_reply": "2021-01-27T06:50:38.829970Z"
    },
    "papermill": {
     "duration": 14.4388,
     "end_time": "2021-01-27T06:50:38.830644",
     "exception": false,
     "start_time": "2021-01-27T06:50:24.391844",
     "status": "completed"
    },
    "tags": []
   },
   "outputs": [],
   "source": [
    "# save the model to file\n",
    "model.save('epochBIG.h5')\n",
    "# save the tokenizer\n",
    "dump(tokenizer, open('epochBIG', 'wb'))"
   ]
  },
  {
   "cell_type": "markdown",
   "metadata": {
    "papermill": {
     "duration": 14.596143,
     "end_time": "2021-01-27T06:51:07.641958",
     "exception": false,
     "start_time": "2021-01-27T06:50:53.045815",
     "status": "completed"
    },
    "tags": []
   },
   "source": [
    "<a id=\"chap6\"></a>\n",
    "<h3 style=\"background-color:gold;font-family:newtimeroman;font-size:200%;text-align:center\">Generating new text</h3>"
   ]
  },
  {
   "cell_type": "code",
   "execution_count": 41,
   "metadata": {
    "execution": {
     "iopub.execute_input": "2021-01-27T06:51:37.160852Z",
     "iopub.status.busy": "2021-01-27T06:51:37.160221Z",
     "iopub.status.idle": "2021-01-27T06:51:37.166813Z",
     "shell.execute_reply": "2021-01-27T06:51:37.166293Z"
    },
    "papermill": {
     "duration": 14.747321,
     "end_time": "2021-01-27T06:51:37.166946",
     "exception": false,
     "start_time": "2021-01-27T06:51:22.419625",
     "status": "completed"
    },
    "tags": []
   },
   "outputs": [],
   "source": [
    "from random import randint\n",
    "from pickle import load\n",
    "from keras.models import load_model\n",
    "from keras.preprocessing.sequence import pad_sequences"
   ]
  },
  {
   "cell_type": "code",
   "execution_count": 42,
   "metadata": {
    "execution": {
     "iopub.execute_input": "2021-01-27T06:52:06.116354Z",
     "iopub.status.busy": "2021-01-27T06:52:06.115403Z",
     "iopub.status.idle": "2021-01-27T06:52:06.118401Z",
     "shell.execute_reply": "2021-01-27T06:52:06.117919Z"
    },
    "papermill": {
     "duration": 14.811834,
     "end_time": "2021-01-27T06:52:06.118536",
     "exception": false,
     "start_time": "2021-01-27T06:51:51.306702",
     "status": "completed"
    },
    "tags": []
   },
   "outputs": [],
   "source": [
    "def generate_text(model, tokenizer, seq_len, seed_text, num_gen_words):\n",
    "    '''\n",
    "    INPUTS:\n",
    "    model : model that was trained on text data\n",
    "    tokenizer : tokenizer that was fit on text data\n",
    "    seq_len : length of training sequence\n",
    "    seed_text : raw string text to serve as the seed\n",
    "    num_gen_words : number of words to be generated by model\n",
    "    '''\n",
    "    \n",
    "    # Final Output\n",
    "    output_text = []\n",
    "    \n",
    "    # Intial Seed Sequence\n",
    "    input_text = seed_text\n",
    "    \n",
    "    # Create num_gen_words\n",
    "    for i in range(num_gen_words):\n",
    "        \n",
    "        # Take the input text string and encode it to a sequence\n",
    "        encoded_text = tokenizer.texts_to_sequences([input_text])[0]\n",
    "        \n",
    "        # Pad sequences to our trained rate (50 words in the video)\n",
    "        pad_encoded = pad_sequences([encoded_text], maxlen=seq_len, truncating='pre')\n",
    "        \n",
    "        # Predict Class Probabilities for each word\n",
    "        pred_word_ind = model.predict_classes(pad_encoded, verbose=0)[0]\n",
    "        \n",
    "        # Grab word\n",
    "        pred_word = tokenizer.index_word[pred_word_ind] \n",
    "        \n",
    "        # Update the sequence of input text (shifting one over with the new word)\n",
    "        input_text += ' ' + pred_word\n",
    "        \n",
    "        output_text.append(pred_word)\n",
    "        \n",
    "    # Make it look like a sentence.\n",
    "    return ' '.join(output_text)"
   ]
  },
  {
   "cell_type": "markdown",
   "metadata": {
    "papermill": {
     "duration": 14.527479,
     "end_time": "2021-01-27T06:52:35.006796",
     "exception": false,
     "start_time": "2021-01-27T06:52:20.479317",
     "status": "completed"
    },
    "tags": []
   },
   "source": [
    "`# Grab a random seed sequence`"
   ]
  },
  {
   "cell_type": "code",
   "execution_count": 43,
   "metadata": {
    "execution": {
     "iopub.execute_input": "2021-01-27T06:53:04.067113Z",
     "iopub.status.busy": "2021-01-27T06:53:04.066379Z",
     "iopub.status.idle": "2021-01-27T06:53:04.072550Z",
     "shell.execute_reply": "2021-01-27T06:53:04.072070Z"
    },
    "papermill": {
     "duration": 14.581401,
     "end_time": "2021-01-27T06:53:04.072685",
     "exception": false,
     "start_time": "2021-01-27T06:52:49.491284",
     "status": "completed"
    },
    "tags": []
   },
   "outputs": [
    {
     "data": {
      "text/plain": [
       "['the',\n",
       " 'great',\n",
       " 'gatsby',\n",
       " 'by',\n",
       " 'fe',\n",
       " 'scott',\n",
       " 'fitzgerald',\n",
       " 'a',\n",
       " 'sa',\n",
       " 'ie',\n",
       " 'el',\n",
       " 'ee',\n",
       " 'lee',\n",
       " '\\n\\x0c',\n",
       " '‘',\n",
       " 'then',\n",
       " 'wear',\n",
       " 'the',\n",
       " 'gold',\n",
       " 'hat',\n",
       " 'if',\n",
       " 'that',\n",
       " 'will',\n",
       " 'move',\n",
       " 'her',\n",
       " 'if']"
      ]
     },
     "execution_count": 43,
     "metadata": {},
     "output_type": "execute_result"
    }
   ],
   "source": [
    "text_sequences[0]"
   ]
  },
  {
   "cell_type": "code",
   "execution_count": 44,
   "metadata": {
    "execution": {
     "iopub.execute_input": "2021-01-27T06:53:32.750287Z",
     "iopub.status.busy": "2021-01-27T06:53:32.749373Z",
     "iopub.status.idle": "2021-01-27T06:53:32.751291Z",
     "shell.execute_reply": "2021-01-27T06:53:32.751747Z"
    },
    "papermill": {
     "duration": 14.380632,
     "end_time": "2021-01-27T06:53:32.751921",
     "exception": false,
     "start_time": "2021-01-27T06:53:18.371289",
     "status": "completed"
    },
    "tags": []
   },
   "outputs": [],
   "source": [
    "import random\n",
    "random.seed(101)\n",
    "random_pick = random.randint(0,len(text_sequences))"
   ]
  },
  {
   "cell_type": "code",
   "execution_count": 45,
   "metadata": {
    "execution": {
     "iopub.execute_input": "2021-01-27T06:54:01.644577Z",
     "iopub.status.busy": "2021-01-27T06:54:01.643691Z",
     "iopub.status.idle": "2021-01-27T06:54:01.645629Z",
     "shell.execute_reply": "2021-01-27T06:54:01.646112Z"
    },
    "papermill": {
     "duration": 14.310059,
     "end_time": "2021-01-27T06:54:01.646267",
     "exception": false,
     "start_time": "2021-01-27T06:53:47.336208",
     "status": "completed"
    },
    "tags": []
   },
   "outputs": [],
   "source": [
    "random_seed_text = text_sequences[random_pick]"
   ]
  },
  {
   "cell_type": "code",
   "execution_count": 46,
   "metadata": {
    "execution": {
     "iopub.execute_input": "2021-01-27T06:54:30.882279Z",
     "iopub.status.busy": "2021-01-27T06:54:30.881505Z",
     "iopub.status.idle": "2021-01-27T06:54:30.884464Z",
     "shell.execute_reply": "2021-01-27T06:54:30.884946Z"
    },
    "papermill": {
     "duration": 14.261583,
     "end_time": "2021-01-27T06:54:30.885106",
     "exception": false,
     "start_time": "2021-01-27T06:54:16.623523",
     "status": "completed"
    },
    "tags": []
   },
   "outputs": [
    {
     "data": {
      "text/plain": [
       "['music',\n",
       " 'had',\n",
       " 'died',\n",
       " 'down',\n",
       " 'as',\n",
       " 'the',\n",
       " 'ceremony',\n",
       " 'began',\n",
       " 'and',\n",
       " 'now',\n",
       " 'a',\n",
       " 'long',\n",
       " 'cheer',\n",
       " 'floated',\n",
       " 'in',\n",
       " 'at',\n",
       " 'the',\n",
       " 'window',\n",
       " 'followed',\n",
       " 'by',\n",
       " 'in-',\n",
       " 'termittent',\n",
       " 'cries',\n",
       " 'of',\n",
       " '“',\n",
       " '‘']"
      ]
     },
     "execution_count": 46,
     "metadata": {},
     "output_type": "execute_result"
    }
   ],
   "source": [
    "random_seed_text"
   ]
  },
  {
   "cell_type": "code",
   "execution_count": 47,
   "metadata": {
    "execution": {
     "iopub.execute_input": "2021-01-27T06:54:59.860900Z",
     "iopub.status.busy": "2021-01-27T06:54:59.859964Z",
     "iopub.status.idle": "2021-01-27T06:54:59.862606Z",
     "shell.execute_reply": "2021-01-27T06:54:59.863391Z"
    },
    "papermill": {
     "duration": 14.331201,
     "end_time": "2021-01-27T06:54:59.863601",
     "exception": false,
     "start_time": "2021-01-27T06:54:45.532400",
     "status": "completed"
    },
    "tags": []
   },
   "outputs": [],
   "source": [
    "seed_text = ' '.join(random_seed_text)"
   ]
  },
  {
   "cell_type": "code",
   "execution_count": 48,
   "metadata": {
    "execution": {
     "iopub.execute_input": "2021-01-27T06:55:28.862468Z",
     "iopub.status.busy": "2021-01-27T06:55:28.861665Z",
     "iopub.status.idle": "2021-01-27T06:55:28.864944Z",
     "shell.execute_reply": "2021-01-27T06:55:28.865502Z"
    },
    "papermill": {
     "duration": 14.283942,
     "end_time": "2021-01-27T06:55:28.865648",
     "exception": false,
     "start_time": "2021-01-27T06:55:14.581706",
     "status": "completed"
    },
    "tags": []
   },
   "outputs": [
    {
     "data": {
      "text/plain": [
       "'music had died down as the ceremony began and now a long cheer floated in at the window followed by in- termittent cries of “ ‘'"
      ]
     },
     "execution_count": 48,
     "metadata": {},
     "output_type": "execute_result"
    }
   ],
   "source": [
    "seed_text"
   ]
  },
  {
   "cell_type": "code",
   "execution_count": 49,
   "metadata": {
    "execution": {
     "iopub.execute_input": "2021-01-27T06:55:58.016430Z",
     "iopub.status.busy": "2021-01-27T06:55:58.015748Z",
     "iopub.status.idle": "2021-01-27T06:56:00.437995Z",
     "shell.execute_reply": "2021-01-27T06:56:00.437093Z"
    },
    "papermill": {
     "duration": 16.860968,
     "end_time": "2021-01-27T06:56:00.438142",
     "exception": false,
     "start_time": "2021-01-27T06:55:43.577174",
     "status": "completed"
    },
    "tags": []
   },
   "outputs": [
    {
     "name": "stderr",
     "output_type": "stream",
     "text": [
      "/opt/conda/lib/python3.7/site-packages/tensorflow/python/keras/engine/sequential.py:450: UserWarning: `model.predict_classes()` is deprecated and will be removed after 2021-01-01. Please use instead:* `np.argmax(model.predict(x), axis=-1)`,   if your model does multi-class classification   (e.g. if it uses a `softmax` last-layer activation).* `(model.predict(x) > 0.5).astype(\"int32\")`,   if your model does binary classification   (e.g. if it uses a `sigmoid` last-layer activation).\n",
      "  warnings.warn('`model.predict_classes()` is deprecated and '\n"
     ]
    },
    {
     "data": {
      "text/plain": [
       "'yea — ea — ea ’ and finally by a burst of cuff let ebooks at planet ebook.com ebook.com ebook.com ebook.com ebook.com ebook.com ebook.com ebook.com ebook.com ebook.com ebook.com ebook.com ebook.com ebook.com ebook.com ebook.com ebook.com ebook.com ebook.com ebook.com ebook.com ebook.com ebook.com ebook.com ebook.com ebook.com ebook.com ebook.com ebook.com ebook.com ebook.com ebook.com ebook.com'"
      ]
     },
     "execution_count": 49,
     "metadata": {},
     "output_type": "execute_result"
    }
   ],
   "source": [
    "generate_text(model,tokenizer,seq_len,seed_text=seed_text,num_gen_words=50)"
   ]
  },
  {
   "cell_type": "markdown",
   "metadata": {
    "papermill": {
     "duration": 14.594438,
     "end_time": "2021-01-27T06:56:30.061392",
     "exception": false,
     "start_time": "2021-01-27T06:56:15.466954",
     "status": "completed"
    },
    "tags": []
   },
   "source": [
    "<a id=\"chap7\"></a>\n",
    "<h3 style=\"background-color:gold;font-family:newtimeroman;font-size:200%;text-align:center\">Exploring more!</h3>"
   ]
  },
  {
   "cell_type": "code",
   "execution_count": 50,
   "metadata": {
    "execution": {
     "iopub.execute_input": "2021-01-27T06:56:59.480446Z",
     "iopub.status.busy": "2021-01-27T06:56:59.479610Z",
     "iopub.status.idle": "2021-01-27T06:56:59.485729Z",
     "shell.execute_reply": "2021-01-27T06:56:59.485153Z"
    },
    "papermill": {
     "duration": 15.111359,
     "end_time": "2021-01-27T06:56:59.485886",
     "exception": false,
     "start_time": "2021-01-27T06:56:44.374527",
     "status": "completed"
    },
    "tags": []
   },
   "outputs": [],
   "source": [
    "full_text = read_file('../input/the-great-gatsby/The Great Gatsby.txt')"
   ]
  },
  {
   "cell_type": "code",
   "execution_count": 51,
   "metadata": {
    "execution": {
     "iopub.execute_input": "2021-01-27T06:57:28.480784Z",
     "iopub.status.busy": "2021-01-27T06:57:28.480024Z",
     "iopub.status.idle": "2021-01-27T06:57:28.483304Z",
     "shell.execute_reply": "2021-01-27T06:57:28.483792Z"
    },
    "papermill": {
     "duration": 14.683412,
     "end_time": "2021-01-27T06:57:28.483950",
     "exception": false,
     "start_time": "2021-01-27T06:57:13.800538",
     "status": "completed"
    },
    "tags": []
   },
   "outputs": [
    {
     "name": "stdout",
     "output_type": "stream",
     "text": [
      "a century after my father, and a little later I participated in that delayed Teutonic mi- gration known as the Great War. I enjoyed the counter-raid so thoroughly that I came back restless. Instead of being the warm center of\n",
      "\n",
      "\n"
     ]
    }
   ],
   "source": [
    "for i,word in enumerate(full_text.split()):\n",
    "    if word == 'Great':\n",
    "        print(' '.join(full_text.split()[i-20:i+20]))\n",
    "        print('\\n')"
   ]
  },
  {
   "cell_type": "code",
   "execution_count": null,
   "metadata": {
    "papermill": {
     "duration": 14.75625,
     "end_time": "2021-01-27T06:57:57.421883",
     "exception": false,
     "start_time": "2021-01-27T06:57:42.665633",
     "status": "completed"
    },
    "tags": []
   },
   "outputs": [],
   "source": []
  }
 ],
 "metadata": {
  "kernelspec": {
   "display_name": "Python 3",
   "language": "python",
   "name": "python3"
  },
  "language_info": {
   "codemirror_mode": {
    "name": "ipython",
    "version": 3
   },
   "file_extension": ".py",
   "mimetype": "text/x-python",
   "name": "python",
   "nbconvert_exporter": "python",
   "pygments_lexer": "ipython3",
   "version": "3.7.9"
  },
  "papermill": {
   "default_parameters": {},
   "duration": 2844.058656,
   "end_time": "2021-01-27T06:58:14.333446",
   "environment_variables": {},
   "exception": null,
   "input_path": "__notebook__.ipynb",
   "output_path": "__notebook__.ipynb",
   "parameters": {},
   "start_time": "2021-01-27T06:10:50.274790",
   "version": "2.2.2"
  }
 },
 "nbformat": 4,
 "nbformat_minor": 4
}
